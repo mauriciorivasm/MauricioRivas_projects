{
 "cells": [
  {
   "cell_type": "markdown",
   "id": "288c83ec",
   "metadata": {},
   "source": [
    "## Introducción\n",
    "La pandemia mundial del COVID-19, desencadenada por el virus SARS-CoV-2, se ha convertido en la crisis sanitaria más grande en la historia reciente, tomando por sorpresa a gobiernos de todo el mundo, paralizando las economías y sus cadenas de suministro, y poniendo a prueba los sistemas de salud pública. En el caso específico de Perú, a pesar de la rápida implementación de medidas de confinamiento, las condiciones estructurales de su economía, marcadas por altos niveles de informalidad, y su sistema de salud, caracterizado por la falta de financiamiento y desarticulación (Ponce de Leon, 2021), han llevado al país a registrar la tasa de mortalidad más alta por COVID-19 a nivel mundial, alcanzando la cifra de 6,552 muertes por millón de habitantes (Reporte de contagios y muertes por COVID-19, Worldometer, 2023).\n",
    "\n",
    "La expansión del COVID-19 se caracterizó por su magnitud y velocidad, lo que generó la necesidad de una constante actualización de información sobre la evolución de los casos, las medidas gubernamentales de inmovilización, las recomendaciones de seguridad y los avances en el desarrollo de vacunas. Sin embargo, el desconocimiento inicial sobre la naturaleza del virus, su forma de contagio y cómo combatirlo provocó altos niveles de incertidumbre y desinformación, especialmente a través de las redes sociales (Malecki et al., 2021).\n",
    "\n",
    "En este contexto, el papel de los medios de comunicación oficiales resulta esencial. Por un lado, tienen el potencial de monitorear constantemente la situación y proporcionar informes sobre cualquier desarrollo relevante. Por otro lado, pueden difundir información confiable y relevante, evitando la propagación de información no respaldada. Acceder a información precisa y confiable ha sido fundamental para mitigar la carga de salud mental durante la pandemia (Hoyt et al., 2022). Por lo tanto, es importante que los medios de comunicación brinden una cobertura precisa y equilibrada de la pandemia, permitiendo que las personas tomen decisiones informadas sobre su salud, evitando generar ansiedad y estrés, así como reduciendo la incertidumbre y el pánico en la población.\n",
    "\n",
    "Ante este panorama, surge la pregunta sobre el tipo de cobertura que los medios de noticias formales tuvieron durante la pandemia, especialmente en países que sufrieron fuertemente sus efectos, como Perú. Para abordar esta interrogante, en este trabajo utilizaremos los tweets de cuatro de los principales medios de noticias nacionales, aplicando técnicas de procesamiento de lenguaje natural, específicamente el topic modelling, con el objetivo de realizar un análisis temático.\n"
   ]
  },
  {
   "cell_type": "markdown",
   "id": "b873c488",
   "metadata": {},
   "source": [
    "## Datos\n",
    "\n",
    "Las fuentes de datos utilizadas en este análisis son los tweets publicados por las cuentas oficiales de cuatro de los principales medios de noticias peruanos: El Comercio, La República, Willax y Ojo Público. La base de datos cuenta con un total de 931460 tweets, que abarcan un periodo que va desde el año 2016 hasta el año 2023, lo cual nos permitirá analizar la evolución de la cobertura de noticias relacionadas a la pandemia del COVID-19.\n"
   ]
  },
  {
   "cell_type": "markdown",
   "id": "4641be63",
   "metadata": {},
   "source": [
    "## Pasos de análisis\n",
    "\n",
    "- Filtrado: se seleccionaran los tuits que estén relacionados con el tema del Covid-19. Las palabras elegidas para la filtración son las siguientes ['covid', 'coronavirus', 'covid-19', 'pandemia', 'cuarentena']\n",
    "\n",
    "- Limpieza: se tokenizaran los tuits (transformando el texto a minúscilas, eliminando acentos, stompwords,etc.) para poder trabajar con un texto limpio.\n",
    "- Una vez filtrados y limpiados los tweets se eliminaran palabras del tópico general (coronavirus, covid-19, covid) ,para descubrir subtemas o aspectos más específicos en los tuits y evitar que los topicos identificados contengan estas palabras mas generales.\n",
    "\n",
    "- Topic modelling: se aplicaran las técnicas de Non Negative Matrix Factorization (NNMF) y Latent Dirichlet Allocation (LDA) teniendo como parámetro un número de 10 componentes (tópicos)\n",
    "\n",
    "- Comparar: identificaremos cual modelo permite identificar de manera mas clara los topicos en el corpus\n"
   ]
  },
  {
   "cell_type": "markdown",
   "id": "6cddcb2d",
   "metadata": {},
   "source": [
    "## Preparación del texto\n",
    "\n",
    "Importamos paquetes a utilizar"
   ]
  },
  {
   "cell_type": "code",
   "execution_count": 8,
   "id": "a0038694",
   "metadata": {},
   "outputs": [
    {
     "name": "stderr",
     "output_type": "stream",
     "text": [
      "[nltk_data] Downloading package stopwords to\n",
      "[nltk_data]     C:\\Users\\mauro\\AppData\\Roaming\\nltk_data...\n",
      "[nltk_data]   Unzipping corpora\\stopwords.zip.\n"
     ]
    },
    {
     "data": {
      "text/plain": [
       "True"
      ]
     },
     "execution_count": 8,
     "metadata": {},
     "output_type": "execute_result"
    }
   ],
   "source": [
    "import pandas as pd\n",
    "import numpy as np\n",
    "import os\n",
    "import csv\n",
    "import datetime\n",
    "import json\n",
    "import re\n",
    "#from sklearn.datasets import fetch_20newsgroups\n",
    "from sklearn.feature_extraction.text import TfidfVectorizer\n",
    "from sklearn.decomposition import NMF\n",
    "from sklearn.manifold import TSNE\n",
    "from nltk.corpus import stopwords # nltk = package for human language data processing.\n",
    "import os\n",
    "import csv\n",
    "import datetime\n",
    "import json\n",
    "import re\n",
    "import nltk\n",
    "import matplotlib.pyplot as plt\n",
    "import seaborn as sns\n",
    "import gensim\n",
    "from gensim.utils import simple_preprocess\n",
    "import gensim.corpora as corpora\n",
    "nltk.download('stopwords')"
   ]
  },
  {
   "cell_type": "markdown",
   "id": "3c1036c1",
   "metadata": {},
   "source": [
    "Seteamos el directorio"
   ]
  },
  {
   "cell_type": "code",
   "execution_count": 6,
   "id": "b3654de1",
   "metadata": {},
   "outputs": [
    {
     "data": {
      "text/plain": [
       "['Copy of elcomercio_peru.json',\n",
       " 'Copy of larepublica_pe.json',\n",
       " 'Copy of willaxtv.json',\n",
       " 'Copy of ojo_publico.json']"
      ]
     },
     "execution_count": 6,
     "metadata": {},
     "output_type": "execute_result"
    }
   ],
   "source": [
    "directorio = \"H:\\Mi unidad\\PLN\\DatosParaTrabajos\\Medios\"\n",
    "\n",
    "files = os.listdir(directorio)\n",
    "files"
   ]
  },
  {
   "cell_type": "markdown",
   "id": "515cb432",
   "metadata": {},
   "source": [
    "Guardamos los tuits en un data frame"
   ]
  },
  {
   "cell_type": "code",
   "execution_count": 9,
   "id": "889566f9",
   "metadata": {},
   "outputs": [
    {
     "data": {
      "text/html": [
       "<div>\n",
       "<style scoped>\n",
       "    .dataframe tbody tr th:only-of-type {\n",
       "        vertical-align: middle;\n",
       "    }\n",
       "\n",
       "    .dataframe tbody tr th {\n",
       "        vertical-align: top;\n",
       "    }\n",
       "\n",
       "    .dataframe thead th {\n",
       "        text-align: right;\n",
       "    }\n",
       "</style>\n",
       "<table border=\"1\" class=\"dataframe\">\n",
       "  <thead>\n",
       "    <tr style=\"text-align: right;\">\n",
       "      <th></th>\n",
       "      <th>id</th>\n",
       "      <th>text</th>\n",
       "      <th>created_at</th>\n",
       "      <th>author</th>\n",
       "      <th>type</th>\n",
       "      <th>metrics</th>\n",
       "      <th>texto_respuesta</th>\n",
       "      <th>inicio_politician</th>\n",
       "      <th>hand</th>\n",
       "    </tr>\n",
       "  </thead>\n",
       "  <tbody>\n",
       "    <tr>\n",
       "      <th>0</th>\n",
       "      <td>\"1623832899702095873\"</td>\n",
       "      <td>\"BCR mantuvo la tasa de inter\\u00e9s de refere...</td>\n",
       "      <td>\"2023-02-09T23:55:07.000Z\"</td>\n",
       "      <td>\"233033221\"</td>\n",
       "      <td>\"original\"</td>\n",
       "      <td>{'retweet_count': 0, 'reply_count': 0, 'like_c...</td>\n",
       "      <td>NaN</td>\n",
       "      <td>NaN</td>\n",
       "      <td>Copy of elcomercio_peru</td>\n",
       "    </tr>\n",
       "    <tr>\n",
       "      <th>1</th>\n",
       "      <td>\"1623829559308156928\"</td>\n",
       "      <td>\"Centro de Lima: integrantes de la CGTP se mov...</td>\n",
       "      <td>\"2023-02-09T23:41:50.000Z\"</td>\n",
       "      <td>\"233033221\"</td>\n",
       "      <td>\"original\"</td>\n",
       "      <td>{'retweet_count': 4, 'reply_count': 5, 'like_c...</td>\n",
       "      <td>NaN</td>\n",
       "      <td>NaN</td>\n",
       "      <td>Copy of elcomercio_peru</td>\n",
       "    </tr>\n",
       "    <tr>\n",
       "      <th>2</th>\n",
       "      <td>\"1623828283463766018\"</td>\n",
       "      <td>\"Los crueles ataques racistas de mujer contra ...</td>\n",
       "      <td>\"2023-02-09T23:36:46.000Z\"</td>\n",
       "      <td>\"233033221\"</td>\n",
       "      <td>\"original\"</td>\n",
       "      <td>{'retweet_count': 0, 'reply_count': 0, 'like_c...</td>\n",
       "      <td>NaN</td>\n",
       "      <td>NaN</td>\n",
       "      <td>Copy of elcomercio_peru</td>\n",
       "    </tr>\n",
       "    <tr>\n",
       "      <th>3</th>\n",
       "      <td>\"1623825571770781697\"</td>\n",
       "      <td>\"Asesinato en San Miguel: el paso a paso de c\\...</td>\n",
       "      <td>\"2023-02-09T23:26:00.000Z\"</td>\n",
       "      <td>\"233033221\"</td>\n",
       "      <td>\"original\"</td>\n",
       "      <td>{'retweet_count': 0, 'reply_count': 0, 'like_c...</td>\n",
       "      <td>NaN</td>\n",
       "      <td>NaN</td>\n",
       "      <td>Copy of elcomercio_peru</td>\n",
       "    </tr>\n",
       "    <tr>\n",
       "      <th>4</th>\n",
       "      <td>\"1623824292130525185\"</td>\n",
       "      <td>\"EE.UU. anuncia 85 millones de d\\u00f3lares en...</td>\n",
       "      <td>\"2023-02-09T23:20:55.000Z\"</td>\n",
       "      <td>\"233033221\"</td>\n",
       "      <td>\"original\"</td>\n",
       "      <td>{'retweet_count': 0, 'reply_count': 1, 'like_c...</td>\n",
       "      <td>NaN</td>\n",
       "      <td>NaN</td>\n",
       "      <td>Copy of elcomercio_peru</td>\n",
       "    </tr>\n",
       "  </tbody>\n",
       "</table>\n",
       "</div>"
      ],
      "text/plain": [
       "                      id                                               text  \\\n",
       "0  \"1623832899702095873\"  \"BCR mantuvo la tasa de inter\\u00e9s de refere...   \n",
       "1  \"1623829559308156928\"  \"Centro de Lima: integrantes de la CGTP se mov...   \n",
       "2  \"1623828283463766018\"  \"Los crueles ataques racistas de mujer contra ...   \n",
       "3  \"1623825571770781697\"  \"Asesinato en San Miguel: el paso a paso de c\\...   \n",
       "4  \"1623824292130525185\"  \"EE.UU. anuncia 85 millones de d\\u00f3lares en...   \n",
       "\n",
       "                   created_at       author        type  \\\n",
       "0  \"2023-02-09T23:55:07.000Z\"  \"233033221\"  \"original\"   \n",
       "1  \"2023-02-09T23:41:50.000Z\"  \"233033221\"  \"original\"   \n",
       "2  \"2023-02-09T23:36:46.000Z\"  \"233033221\"  \"original\"   \n",
       "3  \"2023-02-09T23:26:00.000Z\"  \"233033221\"  \"original\"   \n",
       "4  \"2023-02-09T23:20:55.000Z\"  \"233033221\"  \"original\"   \n",
       "\n",
       "                                             metrics texto_respuesta  \\\n",
       "0  {'retweet_count': 0, 'reply_count': 0, 'like_c...             NaN   \n",
       "1  {'retweet_count': 4, 'reply_count': 5, 'like_c...             NaN   \n",
       "2  {'retweet_count': 0, 'reply_count': 0, 'like_c...             NaN   \n",
       "3  {'retweet_count': 0, 'reply_count': 0, 'like_c...             NaN   \n",
       "4  {'retweet_count': 0, 'reply_count': 1, 'like_c...             NaN   \n",
       "\n",
       "  inicio_politician                     hand  \n",
       "0               NaN  Copy of elcomercio_peru  \n",
       "1               NaN  Copy of elcomercio_peru  \n",
       "2               NaN  Copy of elcomercio_peru  \n",
       "3               NaN  Copy of elcomercio_peru  \n",
       "4               NaN  Copy of elcomercio_peru  "
      ]
     },
     "execution_count": 9,
     "metadata": {},
     "output_type": "execute_result"
    }
   ],
   "source": [
    "data=pd.DataFrame()\n",
    "t=0\n",
    "for i in files:\n",
    "  path= directorio+'/'+ i\n",
    "  with open(path, 'r', encoding=\"utf-8\") as f:\n",
    "    pf = json.load(f)\n",
    "    df_aux=pd.DataFrame(pf)\n",
    "    df_aux=df_aux[:-1]\n",
    "    df_aux['hand']=i[:-5]\n",
    "    data = pd.concat([data, df_aux], ignore_index=True, axis=0).reset_index(drop=True)\n",
    "    t+=1\n",
    "\n",
    "data.head()"
   ]
  },
  {
   "cell_type": "code",
   "execution_count": 10,
   "id": "f416563f",
   "metadata": {},
   "outputs": [
    {
     "data": {
      "text/plain": [
       "(931460, 9)"
      ]
     },
     "execution_count": 10,
     "metadata": {},
     "output_type": "execute_result"
    }
   ],
   "source": [
    "data.shape"
   ]
  },
  {
   "cell_type": "markdown",
   "id": "3ff54d47",
   "metadata": {},
   "source": [
    "La base de datos original cuenta con 931 460 tweets\n"
   ]
  },
  {
   "cell_type": "markdown",
   "id": "35ff00ff",
   "metadata": {},
   "source": [
    "### Filtrado por temática\n"
   ]
  },
  {
   "cell_type": "code",
   "execution_count": 11,
   "id": "175247e5",
   "metadata": {},
   "outputs": [],
   "source": [
    "#Limpiamos tweets preliminarmente\n",
    "\n",
    "def clean_accents(tweet):\n",
    "    tweet = re.sub(r\"[àáâãäå]\", \"a\", tweet)\n",
    "    tweet = re.sub(r\"ç\", \"c\", tweet)\n",
    "    tweet = re.sub(r\"[èéêë]\", \"e\", tweet)\n",
    "    tweet = re.sub(r\"[ìíîï]\", \"i\", tweet)\n",
    "    tweet = re.sub(r\"[òóôõö]\", \"o\", tweet)\n",
    "    tweet = re.sub(r\"[ùúûü]\", \"u\", tweet)\n",
    "    tweet = re.sub(r\"[ýÿ]\", \"y\", tweet)\n",
    "\n",
    "    return tweet\n"
   ]
  },
  {
   "cell_type": "code",
   "execution_count": 12,
   "id": "77bf071f",
   "metadata": {},
   "outputs": [],
   "source": [
    "f1 = lambda x: re.sub('[,\\.!?:/@\"]', ' ', x) #elimina caracteres especiales\n",
    "f2 = lambda x: str(x).lower() # poner en minúsula\n"
   ]
  },
  {
   "cell_type": "code",
   "execution_count": 13,
   "id": "ccba2ab9",
   "metadata": {},
   "outputs": [],
   "source": [
    "data['filtrado'] =data['text'].apply(f1).apply(f2).apply(clean_accents)\n"
   ]
  },
  {
   "cell_type": "markdown",
   "id": "b581d639",
   "metadata": {},
   "source": [
    "Creamos lista con palabras vinculadas a la pandemia por el covid-19 y una nueva base de datos que incluya solo los tweets filtrados por tema"
   ]
  },
  {
   "cell_type": "code",
   "execution_count": 14,
   "id": "96dc405d",
   "metadata": {},
   "outputs": [],
   "source": [
    "palabras = ['covid', 'covid19' ,'coronavirus', 'covid-19', 'pandemia', 'cuarentena']\n",
    "data1 = data[data['filtrado'].str.contains('|'.join(palabras))]\n"
   ]
  },
  {
   "cell_type": "code",
   "execution_count": 15,
   "id": "d86f2449",
   "metadata": {},
   "outputs": [
    {
     "data": {
      "text/html": [
       "<div>\n",
       "<style scoped>\n",
       "    .dataframe tbody tr th:only-of-type {\n",
       "        vertical-align: middle;\n",
       "    }\n",
       "\n",
       "    .dataframe tbody tr th {\n",
       "        vertical-align: top;\n",
       "    }\n",
       "\n",
       "    .dataframe thead th {\n",
       "        text-align: right;\n",
       "    }\n",
       "</style>\n",
       "<table border=\"1\" class=\"dataframe\">\n",
       "  <thead>\n",
       "    <tr style=\"text-align: right;\">\n",
       "      <th></th>\n",
       "      <th>id</th>\n",
       "      <th>text</th>\n",
       "      <th>created_at</th>\n",
       "      <th>author</th>\n",
       "      <th>type</th>\n",
       "      <th>metrics</th>\n",
       "      <th>texto_respuesta</th>\n",
       "      <th>inicio_politician</th>\n",
       "      <th>hand</th>\n",
       "      <th>filtrado</th>\n",
       "    </tr>\n",
       "  </thead>\n",
       "  <tbody>\n",
       "    <tr>\n",
       "      <th>64</th>\n",
       "      <td>\"1623740774348165121\"</td>\n",
       "      <td>\"Carnaval Huaracino: regresa festividad tras d...</td>\n",
       "      <td>\"2023-02-09T17:49:02.000Z\"</td>\n",
       "      <td>\"233033221\"</td>\n",
       "      <td>\"original\"</td>\n",
       "      <td>{'retweet_count': 0, 'reply_count': 1, 'like_c...</td>\n",
       "      <td>NaN</td>\n",
       "      <td>NaN</td>\n",
       "      <td>Copy of elcomercio_peru</td>\n",
       "      <td>carnaval huaracino  regresa festividad tras d...</td>\n",
       "    </tr>\n",
       "    <tr>\n",
       "      <th>90</th>\n",
       "      <td>\"1623678417517400067\"</td>\n",
       "      <td>\"Minsa reporta 7 decesos y 143 nuevos contagio...</td>\n",
       "      <td>\"2023-02-09T13:41:15.000Z\"</td>\n",
       "      <td>\"233033221\"</td>\n",
       "      <td>\"original\"</td>\n",
       "      <td>{'retweet_count': 1, 'reply_count': 1, 'like_c...</td>\n",
       "      <td>NaN</td>\n",
       "      <td>NaN</td>\n",
       "      <td>Copy of elcomercio_peru</td>\n",
       "      <td>minsa reporta 7 decesos y 143 nuevos contagio...</td>\n",
       "    </tr>\n",
       "    <tr>\n",
       "      <th>107</th>\n",
       "      <td>\"1623549976310685696\"</td>\n",
       "      <td>\"China indica un descenso de muertes e ingreso...</td>\n",
       "      <td>\"2023-02-09T05:10:53.000Z\"</td>\n",
       "      <td>\"233033221\"</td>\n",
       "      <td>\"original\"</td>\n",
       "      <td>{'retweet_count': 1, 'reply_count': 0, 'like_c...</td>\n",
       "      <td>NaN</td>\n",
       "      <td>NaN</td>\n",
       "      <td>Copy of elcomercio_peru</td>\n",
       "      <td>china indica un descenso de muertes e ingreso...</td>\n",
       "    </tr>\n",
       "    <tr>\n",
       "      <th>202</th>\n",
       "      <td>\"1623356768330911749\"</td>\n",
       "      <td>\"\\u201cLa pandemia del Covid-19 introdujo much...</td>\n",
       "      <td>\"2023-02-08T16:23:08.000Z\"</td>\n",
       "      <td>\"233033221\"</td>\n",
       "      <td>\"replied_to\"</td>\n",
       "      <td>{'retweet_count': 0, 'reply_count': 1, 'like_c...</td>\n",
       "      <td>\"Al ser consultado sobre los motivos por los q...</td>\n",
       "      <td>NaN</td>\n",
       "      <td>Copy of elcomercio_peru</td>\n",
       "      <td>\\u201cla pandemia del covid-19 introdujo much...</td>\n",
       "    </tr>\n",
       "    <tr>\n",
       "      <th>253</th>\n",
       "      <td>\"1623308835292061697\"</td>\n",
       "      <td>\"Minsa reporta 2 decesos y 177 nuevos contagio...</td>\n",
       "      <td>\"2023-02-08T13:12:40.000Z\"</td>\n",
       "      <td>\"233033221\"</td>\n",
       "      <td>\"original\"</td>\n",
       "      <td>{'retweet_count': 1, 'reply_count': 0, 'like_c...</td>\n",
       "      <td>NaN</td>\n",
       "      <td>NaN</td>\n",
       "      <td>Copy of elcomercio_peru</td>\n",
       "      <td>minsa reporta 2 decesos y 177 nuevos contagio...</td>\n",
       "    </tr>\n",
       "  </tbody>\n",
       "</table>\n",
       "</div>"
      ],
      "text/plain": [
       "                        id                                               text  \\\n",
       "64   \"1623740774348165121\"  \"Carnaval Huaracino: regresa festividad tras d...   \n",
       "90   \"1623678417517400067\"  \"Minsa reporta 7 decesos y 143 nuevos contagio...   \n",
       "107  \"1623549976310685696\"  \"China indica un descenso de muertes e ingreso...   \n",
       "202  \"1623356768330911749\"  \"\\u201cLa pandemia del Covid-19 introdujo much...   \n",
       "253  \"1623308835292061697\"  \"Minsa reporta 2 decesos y 177 nuevos contagio...   \n",
       "\n",
       "                     created_at       author          type  \\\n",
       "64   \"2023-02-09T17:49:02.000Z\"  \"233033221\"    \"original\"   \n",
       "90   \"2023-02-09T13:41:15.000Z\"  \"233033221\"    \"original\"   \n",
       "107  \"2023-02-09T05:10:53.000Z\"  \"233033221\"    \"original\"   \n",
       "202  \"2023-02-08T16:23:08.000Z\"  \"233033221\"  \"replied_to\"   \n",
       "253  \"2023-02-08T13:12:40.000Z\"  \"233033221\"    \"original\"   \n",
       "\n",
       "                                               metrics  \\\n",
       "64   {'retweet_count': 0, 'reply_count': 1, 'like_c...   \n",
       "90   {'retweet_count': 1, 'reply_count': 1, 'like_c...   \n",
       "107  {'retweet_count': 1, 'reply_count': 0, 'like_c...   \n",
       "202  {'retweet_count': 0, 'reply_count': 1, 'like_c...   \n",
       "253  {'retweet_count': 1, 'reply_count': 0, 'like_c...   \n",
       "\n",
       "                                       texto_respuesta inicio_politician  \\\n",
       "64                                                 NaN               NaN   \n",
       "90                                                 NaN               NaN   \n",
       "107                                                NaN               NaN   \n",
       "202  \"Al ser consultado sobre los motivos por los q...               NaN   \n",
       "253                                                NaN               NaN   \n",
       "\n",
       "                        hand  \\\n",
       "64   Copy of elcomercio_peru   \n",
       "90   Copy of elcomercio_peru   \n",
       "107  Copy of elcomercio_peru   \n",
       "202  Copy of elcomercio_peru   \n",
       "253  Copy of elcomercio_peru   \n",
       "\n",
       "                                              filtrado  \n",
       "64    carnaval huaracino  regresa festividad tras d...  \n",
       "90    minsa reporta 7 decesos y 143 nuevos contagio...  \n",
       "107   china indica un descenso de muertes e ingreso...  \n",
       "202   \\u201cla pandemia del covid-19 introdujo much...  \n",
       "253   minsa reporta 2 decesos y 177 nuevos contagio...  "
      ]
     },
     "execution_count": 15,
     "metadata": {},
     "output_type": "execute_result"
    }
   ],
   "source": [
    "data1.head()"
   ]
  },
  {
   "cell_type": "code",
   "execution_count": 16,
   "id": "546c352c",
   "metadata": {},
   "outputs": [
    {
     "data": {
      "text/plain": [
       "(69540, 10)"
      ]
     },
     "execution_count": 16,
     "metadata": {},
     "output_type": "execute_result"
    }
   ],
   "source": [
    "data1.shape"
   ]
  },
  {
   "cell_type": "markdown",
   "id": "f0fb760b",
   "metadata": {},
   "source": [
    "La nueva base de datos cuenta con 69 540 tweets"
   ]
  },
  {
   "cell_type": "markdown",
   "id": "72eacb5d",
   "metadata": {},
   "source": [
    "### Limpieza del texto\n",
    "\n",
    "Creamos las siguientes funciones:\n",
    "- clean_accents: elimina los acentos\n",
    "- f1 = eliminar caracteres especiales\n",
    "- f2 = convertir el texto a minúscula\n",
    "- f3 = eliminar stop words\n",
    "- f4 = eliminar palabras con menos de 3 de largo\n"
   ]
  },
  {
   "cell_type": "code",
   "execution_count": 17,
   "id": "2b4dea8e",
   "metadata": {},
   "outputs": [],
   "source": [
    "def clean_accents(tweet):\n",
    "    tweet = re.sub(r\"[àáâãäå]\", \"a\", tweet)\n",
    "    tweet = re.sub(r\"ç\", \"c\", tweet)\n",
    "    tweet = re.sub(r\"[èéêë]\", \"e\", tweet)\n",
    "    tweet = re.sub(r\"[ìíîï]\", \"i\", tweet)\n",
    "    tweet = re.sub(r\"[òóôõö]\", \"o\", tweet)\n",
    "    tweet = re.sub(r\"[ùúûü]\", \"u\", tweet)\n",
    "    tweet = re.sub(r\"[ýÿ]\", \"y\", tweet)\n",
    "\n",
    "    return tweet"
   ]
  },
  {
   "cell_type": "code",
   "execution_count": 18,
   "id": "7d3667a3",
   "metadata": {},
   "outputs": [],
   "source": [
    "f1 = lambda x: re.sub('[,\\.!?:/@\"]', ' ', x)\n",
    "f2 = lambda x: str(x).lower()\n",
    "stop= stopwords.words(\"spanish\")"
   ]
  },
  {
   "cell_type": "code",
   "execution_count": 19,
   "id": "abfefc05",
   "metadata": {},
   "outputs": [
    {
     "name": "stdout",
     "output_type": "stream",
     "text": [
      "['de', 'la', 'que', 'el', 'en', 'y', 'a', 'los', 'del', 'se', 'las', 'por', 'un', 'para', 'con', 'no', 'una', 'su', 'al', 'lo', 'como', 'más', 'pero', 'sus', 'le', 'ya', 'o', 'este', 'sí', 'porque', 'esta', 'entre', 'cuando', 'muy', 'sin', 'sobre', 'también', 'me', 'hasta', 'hay', 'donde', 'quien', 'desde', 'todo', 'nos', 'durante', 'todos', 'uno', 'les', 'ni', 'contra', 'otros', 'ese', 'eso', 'ante', 'ellos', 'e', 'esto', 'mí', 'antes', 'algunos', 'qué', 'unos', 'yo', 'otro', 'otras', 'otra', 'él', 'tanto', 'esa', 'estos', 'mucho', 'quienes', 'nada', 'muchos', 'cual', 'poco', 'ella', 'estar', 'estas', 'algunas', 'algo', 'nosotros', 'mi', 'mis', 'tú', 'te', 'ti', 'tu', 'tus', 'ellas', 'nosotras', 'vosotros', 'vosotras', 'os', 'mío', 'mía', 'míos', 'mías', 'tuyo', 'tuya', 'tuyos', 'tuyas', 'suyo', 'suya', 'suyos', 'suyas', 'nuestro', 'nuestra', 'nuestros', 'nuestras', 'vuestro', 'vuestra', 'vuestros', 'vuestras', 'esos', 'esas', 'estoy', 'estás', 'está', 'estamos', 'estáis', 'están', 'esté', 'estés', 'estemos', 'estéis', 'estén', 'estaré', 'estarás', 'estará', 'estaremos', 'estaréis', 'estarán', 'estaría', 'estarías', 'estaríamos', 'estaríais', 'estarían', 'estaba', 'estabas', 'estábamos', 'estabais', 'estaban', 'estuve', 'estuviste', 'estuvo', 'estuvimos', 'estuvisteis', 'estuvieron', 'estuviera', 'estuvieras', 'estuviéramos', 'estuvierais', 'estuvieran', 'estuviese', 'estuvieses', 'estuviésemos', 'estuvieseis', 'estuviesen', 'estando', 'estado', 'estada', 'estados', 'estadas', 'estad', 'he', 'has', 'ha', 'hemos', 'habéis', 'han', 'haya', 'hayas', 'hayamos', 'hayáis', 'hayan', 'habré', 'habrás', 'habrá', 'habremos', 'habréis', 'habrán', 'habría', 'habrías', 'habríamos', 'habríais', 'habrían', 'había', 'habías', 'habíamos', 'habíais', 'habían', 'hube', 'hubiste', 'hubo', 'hubimos', 'hubisteis', 'hubieron', 'hubiera', 'hubieras', 'hubiéramos', 'hubierais', 'hubieran', 'hubiese', 'hubieses', 'hubiésemos', 'hubieseis', 'hubiesen', 'habiendo', 'habido', 'habida', 'habidos', 'habidas', 'soy', 'eres', 'es', 'somos', 'sois', 'son', 'sea', 'seas', 'seamos', 'seáis', 'sean', 'seré', 'serás', 'será', 'seremos', 'seréis', 'serán', 'sería', 'serías', 'seríamos', 'seríais', 'serían', 'era', 'eras', 'éramos', 'erais', 'eran', 'fui', 'fuiste', 'fue', 'fuimos', 'fuisteis', 'fueron', 'fuera', 'fueras', 'fuéramos', 'fuerais', 'fueran', 'fuese', 'fueses', 'fuésemos', 'fueseis', 'fuesen', 'sintiendo', 'sentido', 'sentida', 'sentidos', 'sentidas', 'siente', 'sentid', 'tengo', 'tienes', 'tiene', 'tenemos', 'tenéis', 'tienen', 'tenga', 'tengas', 'tengamos', 'tengáis', 'tengan', 'tendré', 'tendrás', 'tendrá', 'tendremos', 'tendréis', 'tendrán', 'tendría', 'tendrías', 'tendríamos', 'tendríais', 'tendrían', 'tenía', 'tenías', 'teníamos', 'teníais', 'tenían', 'tuve', 'tuviste', 'tuvo', 'tuvimos', 'tuvisteis', 'tuvieron', 'tuviera', 'tuvieras', 'tuviéramos', 'tuvierais', 'tuvieran', 'tuviese', 'tuvieses', 'tuviésemos', 'tuvieseis', 'tuviesen', 'teniendo', 'tenido', 'tenida', 'tenidos', 'tenidas', 'tened']\n"
     ]
    }
   ],
   "source": [
    "print(stop)"
   ]
  },
  {
   "cell_type": "code",
   "execution_count": 20,
   "id": "4288a960",
   "metadata": {},
   "outputs": [],
   "source": [
    "f3 = lambda x: ' '.join(w.encode('latin-1', errors='ignore').decode('latin-1') for w in x.split() if not w in stop)\n",
    "f4 = lambda x: ' '.join(w.encode('latin-1', errors='ignore').decode('latin-1') for w in x.split() if len(w) > 3)"
   ]
  },
  {
   "cell_type": "markdown",
   "id": "db725980",
   "metadata": {},
   "source": [
    "Reemplazamos el salto de línea por un espacio"
   ]
  },
  {
   "cell_type": "code",
   "execution_count": 21,
   "id": "c4d63767",
   "metadata": {},
   "outputs": [
    {
     "name": "stderr",
     "output_type": "stream",
     "text": [
      "C:\\Users\\mauro\\AppData\\Local\\Temp\\ipykernel_22632\\767568336.py:1: SettingWithCopyWarning: \n",
      "A value is trying to be set on a copy of a slice from a DataFrame.\n",
      "Try using .loc[row_indexer,col_indexer] = value instead\n",
      "\n",
      "See the caveats in the documentation: https://pandas.pydata.org/pandas-docs/stable/user_guide/indexing.html#returning-a-view-versus-a-copy\n",
      "  data1['text_clean'] = data1['text'].str.encode('latin-1', errors='ignore').str.decode('unicode_escape')\n",
      "C:\\Users\\mauro\\AppData\\Local\\Temp\\ipykernel_22632\\767568336.py:3: SettingWithCopyWarning: \n",
      "A value is trying to be set on a copy of a slice from a DataFrame.\n",
      "Try using .loc[row_indexer,col_indexer] = value instead\n",
      "\n",
      "See the caveats in the documentation: https://pandas.pydata.org/pandas-docs/stable/user_guide/indexing.html#returning-a-view-versus-a-copy\n",
      "  data1['text_clean'] = data1['text_clean'].str.replace('\\n', ' ')\n",
      "C:\\Users\\mauro\\AppData\\Local\\Temp\\ipykernel_22632\\767568336.py:5: SettingWithCopyWarning: \n",
      "A value is trying to be set on a copy of a slice from a DataFrame.\n",
      "Try using .loc[row_indexer,col_indexer] = value instead\n",
      "\n",
      "See the caveats in the documentation: https://pandas.pydata.org/pandas-docs/stable/user_guide/indexing.html#returning-a-view-versus-a-copy\n",
      "  data1['text_clean'] = data1['text_clean'].str.replace('\\(', \" \", regex=True).str.replace('\\)', \" \", regex=True)\n",
      "C:\\Users\\mauro\\AppData\\Local\\Temp\\ipykernel_22632\\767568336.py:7: SettingWithCopyWarning: \n",
      "A value is trying to be set on a copy of a slice from a DataFrame.\n",
      "Try using .loc[row_indexer,col_indexer] = value instead\n",
      "\n",
      "See the caveats in the documentation: https://pandas.pydata.org/pandas-docs/stable/user_guide/indexing.html#returning-a-view-versus-a-copy\n",
      "  data1['text_clean'] = data1['text_clean'].str.replace('[\\)\\[\\]‐#@]', \" \", regex=True)\n",
      "C:\\Users\\mauro\\AppData\\Local\\Temp\\ipykernel_22632\\767568336.py:9: SettingWithCopyWarning: \n",
      "A value is trying to be set on a copy of a slice from a DataFrame.\n",
      "Try using .loc[row_indexer,col_indexer] = value instead\n",
      "\n",
      "See the caveats in the documentation: https://pandas.pydata.org/pandas-docs/stable/user_guide/indexing.html#returning-a-view-versus-a-copy\n",
      "  data1['text_clean'] =data1['text_clean'].apply(f1).apply(f2).apply(f3).apply(f4).apply(clean_accents)\n"
     ]
    },
    {
     "data": {
      "text/html": [
       "<div>\n",
       "<style scoped>\n",
       "    .dataframe tbody tr th:only-of-type {\n",
       "        vertical-align: middle;\n",
       "    }\n",
       "\n",
       "    .dataframe tbody tr th {\n",
       "        vertical-align: top;\n",
       "    }\n",
       "\n",
       "    .dataframe thead th {\n",
       "        text-align: right;\n",
       "    }\n",
       "</style>\n",
       "<table border=\"1\" class=\"dataframe\">\n",
       "  <thead>\n",
       "    <tr style=\"text-align: right;\">\n",
       "      <th></th>\n",
       "      <th>id</th>\n",
       "      <th>text</th>\n",
       "      <th>created_at</th>\n",
       "      <th>author</th>\n",
       "      <th>type</th>\n",
       "      <th>metrics</th>\n",
       "      <th>texto_respuesta</th>\n",
       "      <th>inicio_politician</th>\n",
       "      <th>hand</th>\n",
       "      <th>filtrado</th>\n",
       "      <th>text_clean</th>\n",
       "    </tr>\n",
       "  </thead>\n",
       "  <tbody>\n",
       "    <tr>\n",
       "      <th>64</th>\n",
       "      <td>\"1623740774348165121\"</td>\n",
       "      <td>\"Carnaval Huaracino: regresa festividad tras d...</td>\n",
       "      <td>\"2023-02-09T17:49:02.000Z\"</td>\n",
       "      <td>\"233033221\"</td>\n",
       "      <td>\"original\"</td>\n",
       "      <td>{'retweet_count': 0, 'reply_count': 1, 'like_c...</td>\n",
       "      <td>NaN</td>\n",
       "      <td>NaN</td>\n",
       "      <td>Copy of elcomercio_peru</td>\n",
       "      <td>carnaval huaracino  regresa festividad tras d...</td>\n",
       "      <td>carnaval huaracino regresa festividad tras año...</td>\n",
       "    </tr>\n",
       "    <tr>\n",
       "      <th>90</th>\n",
       "      <td>\"1623678417517400067\"</td>\n",
       "      <td>\"Minsa reporta 7 decesos y 143 nuevos contagio...</td>\n",
       "      <td>\"2023-02-09T13:41:15.000Z\"</td>\n",
       "      <td>\"233033221\"</td>\n",
       "      <td>\"original\"</td>\n",
       "      <td>{'retweet_count': 1, 'reply_count': 1, 'like_c...</td>\n",
       "      <td>NaN</td>\n",
       "      <td>NaN</td>\n",
       "      <td>Copy of elcomercio_peru</td>\n",
       "      <td>minsa reporta 7 decesos y 143 nuevos contagio...</td>\n",
       "      <td>minsa reporta decesos nuevos contagios covid-1...</td>\n",
       "    </tr>\n",
       "    <tr>\n",
       "      <th>107</th>\n",
       "      <td>\"1623549976310685696\"</td>\n",
       "      <td>\"China indica un descenso de muertes e ingreso...</td>\n",
       "      <td>\"2023-02-09T05:10:53.000Z\"</td>\n",
       "      <td>\"233033221\"</td>\n",
       "      <td>\"original\"</td>\n",
       "      <td>{'retweet_count': 1, 'reply_count': 0, 'like_c...</td>\n",
       "      <td>NaN</td>\n",
       "      <td>NaN</td>\n",
       "      <td>Copy of elcomercio_peru</td>\n",
       "      <td>china indica un descenso de muertes e ingreso...</td>\n",
       "      <td>china indica descenso muertes ingresos hospita...</td>\n",
       "    </tr>\n",
       "    <tr>\n",
       "      <th>202</th>\n",
       "      <td>\"1623356768330911749\"</td>\n",
       "      <td>\"\\u201cLa pandemia del Covid-19 introdujo much...</td>\n",
       "      <td>\"2023-02-08T16:23:08.000Z\"</td>\n",
       "      <td>\"233033221\"</td>\n",
       "      <td>\"replied_to\"</td>\n",
       "      <td>{'retweet_count': 0, 'reply_count': 1, 'like_c...</td>\n",
       "      <td>\"Al ser consultado sobre los motivos por los q...</td>\n",
       "      <td>NaN</td>\n",
       "      <td>Copy of elcomercio_peru</td>\n",
       "      <td>\\u201cla pandemia del covid-19 introdujo much...</td>\n",
       "      <td>pandemia covid-19 introdujo digitalizacion pub...</td>\n",
       "    </tr>\n",
       "    <tr>\n",
       "      <th>253</th>\n",
       "      <td>\"1623308835292061697\"</td>\n",
       "      <td>\"Minsa reporta 2 decesos y 177 nuevos contagio...</td>\n",
       "      <td>\"2023-02-08T13:12:40.000Z\"</td>\n",
       "      <td>\"233033221\"</td>\n",
       "      <td>\"original\"</td>\n",
       "      <td>{'retweet_count': 1, 'reply_count': 0, 'like_c...</td>\n",
       "      <td>NaN</td>\n",
       "      <td>NaN</td>\n",
       "      <td>Copy of elcomercio_peru</td>\n",
       "      <td>minsa reporta 2 decesos y 177 nuevos contagio...</td>\n",
       "      <td>minsa reporta decesos nuevos contagios covid-1...</td>\n",
       "    </tr>\n",
       "  </tbody>\n",
       "</table>\n",
       "</div>"
      ],
      "text/plain": [
       "                        id                                               text  \\\n",
       "64   \"1623740774348165121\"  \"Carnaval Huaracino: regresa festividad tras d...   \n",
       "90   \"1623678417517400067\"  \"Minsa reporta 7 decesos y 143 nuevos contagio...   \n",
       "107  \"1623549976310685696\"  \"China indica un descenso de muertes e ingreso...   \n",
       "202  \"1623356768330911749\"  \"\\u201cLa pandemia del Covid-19 introdujo much...   \n",
       "253  \"1623308835292061697\"  \"Minsa reporta 2 decesos y 177 nuevos contagio...   \n",
       "\n",
       "                     created_at       author          type  \\\n",
       "64   \"2023-02-09T17:49:02.000Z\"  \"233033221\"    \"original\"   \n",
       "90   \"2023-02-09T13:41:15.000Z\"  \"233033221\"    \"original\"   \n",
       "107  \"2023-02-09T05:10:53.000Z\"  \"233033221\"    \"original\"   \n",
       "202  \"2023-02-08T16:23:08.000Z\"  \"233033221\"  \"replied_to\"   \n",
       "253  \"2023-02-08T13:12:40.000Z\"  \"233033221\"    \"original\"   \n",
       "\n",
       "                                               metrics  \\\n",
       "64   {'retweet_count': 0, 'reply_count': 1, 'like_c...   \n",
       "90   {'retweet_count': 1, 'reply_count': 1, 'like_c...   \n",
       "107  {'retweet_count': 1, 'reply_count': 0, 'like_c...   \n",
       "202  {'retweet_count': 0, 'reply_count': 1, 'like_c...   \n",
       "253  {'retweet_count': 1, 'reply_count': 0, 'like_c...   \n",
       "\n",
       "                                       texto_respuesta inicio_politician  \\\n",
       "64                                                 NaN               NaN   \n",
       "90                                                 NaN               NaN   \n",
       "107                                                NaN               NaN   \n",
       "202  \"Al ser consultado sobre los motivos por los q...               NaN   \n",
       "253                                                NaN               NaN   \n",
       "\n",
       "                        hand  \\\n",
       "64   Copy of elcomercio_peru   \n",
       "90   Copy of elcomercio_peru   \n",
       "107  Copy of elcomercio_peru   \n",
       "202  Copy of elcomercio_peru   \n",
       "253  Copy of elcomercio_peru   \n",
       "\n",
       "                                              filtrado  \\\n",
       "64    carnaval huaracino  regresa festividad tras d...   \n",
       "90    minsa reporta 7 decesos y 143 nuevos contagio...   \n",
       "107   china indica un descenso de muertes e ingreso...   \n",
       "202   \\u201cla pandemia del covid-19 introdujo much...   \n",
       "253   minsa reporta 2 decesos y 177 nuevos contagio...   \n",
       "\n",
       "                                            text_clean  \n",
       "64   carnaval huaracino regresa festividad tras año...  \n",
       "90   minsa reporta decesos nuevos contagios covid-1...  \n",
       "107  china indica descenso muertes ingresos hospita...  \n",
       "202  pandemia covid-19 introdujo digitalizacion pub...  \n",
       "253  minsa reporta decesos nuevos contagios covid-1...  "
      ]
     },
     "execution_count": 21,
     "metadata": {},
     "output_type": "execute_result"
    }
   ],
   "source": [
    "data1['text_clean'] = data1['text'].str.encode('latin-1', errors='ignore').str.decode('unicode_escape')\n",
    "\n",
    "data1['text_clean'] = data1['text_clean'].str.replace('\\n', ' ')\n",
    "\n",
    "data1['text_clean'] = data1['text_clean'].str.replace('\\(', \" \", regex=True).str.replace('\\)', \" \", regex=True)\n",
    "\n",
    "data1['text_clean'] = data1['text_clean'].str.replace('[\\)\\[\\]‐#@]', \" \", regex=True)\n",
    "\n",
    "data1['text_clean'] =data1['text_clean'].apply(f1).apply(f2).apply(f3).apply(f4).apply(clean_accents)\n",
    "\n",
    "data1.head()\n"
   ]
  },
  {
   "cell_type": "markdown",
   "id": "77dba482",
   "metadata": {},
   "source": [
    "Verificamos los cambios en el texto "
   ]
  },
  {
   "cell_type": "code",
   "execution_count": 23,
   "id": "44ef49dc",
   "metadata": {},
   "outputs": [
    {
     "data": {
      "text/html": [
       "<div>\n",
       "<style scoped>\n",
       "    .dataframe tbody tr th:only-of-type {\n",
       "        vertical-align: middle;\n",
       "    }\n",
       "\n",
       "    .dataframe tbody tr th {\n",
       "        vertical-align: top;\n",
       "    }\n",
       "\n",
       "    .dataframe thead th {\n",
       "        text-align: right;\n",
       "    }\n",
       "</style>\n",
       "<table border=\"1\" class=\"dataframe\">\n",
       "  <thead>\n",
       "    <tr style=\"text-align: right;\">\n",
       "      <th></th>\n",
       "      <th>text</th>\n",
       "      <th>text_clean</th>\n",
       "    </tr>\n",
       "  </thead>\n",
       "  <tbody>\n",
       "    <tr>\n",
       "      <th>64</th>\n",
       "      <td>\"Carnaval Huaracino: regresa festividad tras d...</td>\n",
       "      <td>carnaval huaracino regresa festividad tras año...</td>\n",
       "    </tr>\n",
       "    <tr>\n",
       "      <th>90</th>\n",
       "      <td>\"Minsa reporta 7 decesos y 143 nuevos contagio...</td>\n",
       "      <td>minsa reporta decesos nuevos contagios covid-1...</td>\n",
       "    </tr>\n",
       "    <tr>\n",
       "      <th>107</th>\n",
       "      <td>\"China indica un descenso de muertes e ingreso...</td>\n",
       "      <td>china indica descenso muertes ingresos hospita...</td>\n",
       "    </tr>\n",
       "    <tr>\n",
       "      <th>202</th>\n",
       "      <td>\"\\u201cLa pandemia del Covid-19 introdujo much...</td>\n",
       "      <td>pandemia covid-19 introdujo digitalizacion pub...</td>\n",
       "    </tr>\n",
       "    <tr>\n",
       "      <th>253</th>\n",
       "      <td>\"Minsa reporta 2 decesos y 177 nuevos contagio...</td>\n",
       "      <td>minsa reporta decesos nuevos contagios covid-1...</td>\n",
       "    </tr>\n",
       "  </tbody>\n",
       "</table>\n",
       "</div>"
      ],
      "text/plain": [
       "                                                  text  \\\n",
       "64   \"Carnaval Huaracino: regresa festividad tras d...   \n",
       "90   \"Minsa reporta 7 decesos y 143 nuevos contagio...   \n",
       "107  \"China indica un descenso de muertes e ingreso...   \n",
       "202  \"\\u201cLa pandemia del Covid-19 introdujo much...   \n",
       "253  \"Minsa reporta 2 decesos y 177 nuevos contagio...   \n",
       "\n",
       "                                            text_clean  \n",
       "64   carnaval huaracino regresa festividad tras año...  \n",
       "90   minsa reporta decesos nuevos contagios covid-1...  \n",
       "107  china indica descenso muertes ingresos hospita...  \n",
       "202  pandemia covid-19 introdujo digitalizacion pub...  \n",
       "253  minsa reporta decesos nuevos contagios covid-1...  "
      ]
     },
     "execution_count": 23,
     "metadata": {},
     "output_type": "execute_result"
    }
   ],
   "source": [
    "data1[['text','text_clean']].head(5)"
   ]
  },
  {
   "cell_type": "code",
   "execution_count": 24,
   "id": "3cc179a8",
   "metadata": {},
   "outputs": [
    {
     "name": "stdout",
     "output_type": "stream",
     "text": [
      "['https', 'covid', 'covid19', 'coronavirus', 'covid-19', 'rt', 't', 'como', 'co', 'tras', 'htp', 'https', 'fdfq7gkriy', 'noticias', 'ojoaldato', 'loultimo', '4ajelmloq2', 'bestcable', 'vivo', 'c1191', 'sigue', 'directv', 'movistartv', 'clarotv', '52rqfuppqu', 'vivo', 'como', 'suscribete', 'milagrosleivaentrevista', 'video', 'noticia', 'suscriptores', 'contenido', '19', 'covidcomercio', 'solo', 'aqui']\n"
     ]
    }
   ],
   "source": [
    "pborrar = ['https', 'covid', 'covid19', 'coronavirus', 'covid-19', 'rt', 't', 'como' ,'co','tras' ,'htp','https','fdfq7gkriy','noticias', 'ojoaldato','loultimo', '4ajelmloq2', 'bestcable', 'vivo', 'c1191', 'sigue', 'directv', 'movistartv', 'clarotv', '52rqfuppqu', 'vivo', 'como', 'suscribete', 'milagrosleivaentrevista', 'video', 'noticia', 'suscriptores', 'contenido', '19','covid' 'comercio', 'solo', 'aqui']\n",
    "print(pborrar)"
   ]
  },
  {
   "cell_type": "code",
   "execution_count": 25,
   "id": "289d61f6",
   "metadata": {},
   "outputs": [],
   "source": [
    "f5 = lambda x: ' '.join(w.encode('latin-1', errors='ignore').decode('latin-1') for w in x.split() if not w in pborrar)"
   ]
  },
  {
   "cell_type": "code",
   "execution_count": 26,
   "id": "c9bba3ed",
   "metadata": {},
   "outputs": [
    {
     "name": "stderr",
     "output_type": "stream",
     "text": [
      "C:\\Users\\mauro\\AppData\\Local\\Temp\\ipykernel_22632\\239499121.py:1: SettingWithCopyWarning: \n",
      "A value is trying to be set on a copy of a slice from a DataFrame.\n",
      "Try using .loc[row_indexer,col_indexer] = value instead\n",
      "\n",
      "See the caveats in the documentation: https://pandas.pydata.org/pandas-docs/stable/user_guide/indexing.html#returning-a-view-versus-a-copy\n",
      "  data1['text_clean'] =data1['text_clean'].apply(f5)\n"
     ]
    },
    {
     "data": {
      "text/html": [
       "<div>\n",
       "<style scoped>\n",
       "    .dataframe tbody tr th:only-of-type {\n",
       "        vertical-align: middle;\n",
       "    }\n",
       "\n",
       "    .dataframe tbody tr th {\n",
       "        vertical-align: top;\n",
       "    }\n",
       "\n",
       "    .dataframe thead th {\n",
       "        text-align: right;\n",
       "    }\n",
       "</style>\n",
       "<table border=\"1\" class=\"dataframe\">\n",
       "  <thead>\n",
       "    <tr style=\"text-align: right;\">\n",
       "      <th></th>\n",
       "      <th>text</th>\n",
       "      <th>text_clean</th>\n",
       "    </tr>\n",
       "  </thead>\n",
       "  <tbody>\n",
       "    <tr>\n",
       "      <th>64</th>\n",
       "      <td>\"Carnaval Huaracino: regresa festividad tras d...</td>\n",
       "      <td>carnaval huaracino regresa festividad años con...</td>\n",
       "    </tr>\n",
       "    <tr>\n",
       "      <th>90</th>\n",
       "      <td>\"Minsa reporta 7 decesos y 143 nuevos contagio...</td>\n",
       "      <td>minsa reporta decesos nuevos contagios ultimas...</td>\n",
       "    </tr>\n",
       "    <tr>\n",
       "      <th>107</th>\n",
       "      <td>\"China indica un descenso de muertes e ingreso...</td>\n",
       "      <td>china indica descenso muertes ingresos hospita...</td>\n",
       "    </tr>\n",
       "    <tr>\n",
       "      <th>202</th>\n",
       "      <td>\"\\u201cLa pandemia del Covid-19 introdujo much...</td>\n",
       "      <td>pandemia introdujo digitalizacion publicidad p...</td>\n",
       "    </tr>\n",
       "    <tr>\n",
       "      <th>253</th>\n",
       "      <td>\"Minsa reporta 2 decesos y 177 nuevos contagio...</td>\n",
       "      <td>minsa reporta decesos nuevos contagios ultimas...</td>\n",
       "    </tr>\n",
       "    <tr>\n",
       "      <th>...</th>\n",
       "      <td>...</td>\n",
       "      <td>...</td>\n",
       "    </tr>\n",
       "    <tr>\n",
       "      <th>904195</th>\n",
       "      <td>\"Mientras el coronavirus y el p\\u00e1nico se e...</td>\n",
       "      <td>mientras panico extienden mundo dengue represe...</td>\n",
       "    </tr>\n",
       "    <tr>\n",
       "      <th>904196</th>\n",
       "      <td>\"Mientras la discusi\\u00f3n se centra en el #c...</td>\n",
       "      <td>mientras discusion centra pocos hablan dengue ...</td>\n",
       "    </tr>\n",
       "    <tr>\n",
       "      <th>904199</th>\n",
       "      <td>\"#Fotoreportaje Mientras el coronavirus se ext...</td>\n",
       "      <td>fotoreportaje mientras extienden varios paises...</td>\n",
       "    </tr>\n",
       "    <tr>\n",
       "      <th>922505</th>\n",
       "      <td>\"Crisis humanitaria en Venezuela pone en pelig...</td>\n",
       "      <td>crisis humanitaria venezuela pone peligro esfu...</td>\n",
       "    </tr>\n",
       "    <tr>\n",
       "      <th>922509</th>\n",
       "      <td>\"Crisis humanitaria en Venezuela pone en pelig...</td>\n",
       "      <td>crisis humanitaria venezuela pone peligro esfu...</td>\n",
       "    </tr>\n",
       "  </tbody>\n",
       "</table>\n",
       "<p>69540 rows × 2 columns</p>\n",
       "</div>"
      ],
      "text/plain": [
       "                                                     text  \\\n",
       "64      \"Carnaval Huaracino: regresa festividad tras d...   \n",
       "90      \"Minsa reporta 7 decesos y 143 nuevos contagio...   \n",
       "107     \"China indica un descenso de muertes e ingreso...   \n",
       "202     \"\\u201cLa pandemia del Covid-19 introdujo much...   \n",
       "253     \"Minsa reporta 2 decesos y 177 nuevos contagio...   \n",
       "...                                                   ...   \n",
       "904195  \"Mientras el coronavirus y el p\\u00e1nico se e...   \n",
       "904196  \"Mientras la discusi\\u00f3n se centra en el #c...   \n",
       "904199  \"#Fotoreportaje Mientras el coronavirus se ext...   \n",
       "922505  \"Crisis humanitaria en Venezuela pone en pelig...   \n",
       "922509  \"Crisis humanitaria en Venezuela pone en pelig...   \n",
       "\n",
       "                                               text_clean  \n",
       "64      carnaval huaracino regresa festividad años con...  \n",
       "90      minsa reporta decesos nuevos contagios ultimas...  \n",
       "107     china indica descenso muertes ingresos hospita...  \n",
       "202     pandemia introdujo digitalizacion publicidad p...  \n",
       "253     minsa reporta decesos nuevos contagios ultimas...  \n",
       "...                                                   ...  \n",
       "904195  mientras panico extienden mundo dengue represe...  \n",
       "904196  mientras discusion centra pocos hablan dengue ...  \n",
       "904199  fotoreportaje mientras extienden varios paises...  \n",
       "922505  crisis humanitaria venezuela pone peligro esfu...  \n",
       "922509  crisis humanitaria venezuela pone peligro esfu...  \n",
       "\n",
       "[69540 rows x 2 columns]"
      ]
     },
     "execution_count": 26,
     "metadata": {},
     "output_type": "execute_result"
    }
   ],
   "source": [
    "data1['text_clean'] =data1['text_clean'].apply(f5)\n",
    "\n",
    "data1[['text','text_clean']]\n"
   ]
  },
  {
   "cell_type": "markdown",
   "id": "c5f885cd",
   "metadata": {},
   "source": [
    "\n",
    "## Método 1: Non Negative Matrix Factorization - NNMF\n",
    "\n",
    "Para identificar los tópicos necesitamos reducir la dimensionalidad del texto, es decir, descomponer nuestra matriz ${D}$ en dos matrices:\n",
    "- ${Q}$  = tweets x tópicos\n",
    "- ${P}$  = topicos x terminos\n"
   ]
  },
  {
   "cell_type": "markdown",
   "id": "22fa3ffc",
   "metadata": {},
   "source": [
    "\n",
    "\n",
    "$\\underbrace{D}_{n\\times d} \\approx \\underbrace{Q}_{n \\times k} \\overbrace{\\Sigma}^{k\\times k} \\underbrace{P^{T}}_{k \\times d}$\n",
    "\n",
    "El método NNMF construye las matrices utilizando la frecuencia de términos (TF, Term Frequency)\n",
    "\n"
   ]
  },
  {
   "cell_type": "markdown",
   "id": "9363558c",
   "metadata": {},
   "source": [
    "### Matriz de término frecuencia (TF)"
   ]
  },
  {
   "cell_type": "code",
   "execution_count": 27,
   "id": "9e44961c",
   "metadata": {},
   "outputs": [],
   "source": [
    "tfidf = TfidfVectorizer()"
   ]
  },
  {
   "cell_type": "markdown",
   "id": "11f8ddbb",
   "metadata": {},
   "source": [
    "La matriz se construye a partir de los tweets limpios"
   ]
  },
  {
   "cell_type": "code",
   "execution_count": 28,
   "id": "0dac599c",
   "metadata": {},
   "outputs": [
    {
     "ename": "MemoryError",
     "evalue": "Unable to allocate 51.4 GiB for an array with shape (69540, 99218) and data type float64",
     "output_type": "error",
     "traceback": [
      "\u001b[1;31m---------------------------------------------------------------------------\u001b[0m",
      "\u001b[1;31mMemoryError\u001b[0m                               Traceback (most recent call last)",
      "Cell \u001b[1;32mIn[28], line 5\u001b[0m\n\u001b[0;32m      1\u001b[0m tfs \u001b[38;5;241m=\u001b[39m tfidf\u001b[38;5;241m.\u001b[39mfit_transform(data1[\u001b[38;5;124m'\u001b[39m\u001b[38;5;124mtext_clean\u001b[39m\u001b[38;5;124m'\u001b[39m])\n\u001b[0;32m      3\u001b[0m \u001b[38;5;66;03m# Tuits x términos\u001b[39;00m\n\u001b[1;32m----> 5\u001b[0m \u001b[38;5;28mprint\u001b[39m(tfs\u001b[38;5;241m.\u001b[39mtoarray()\u001b[38;5;241m.\u001b[39mshape)\n",
      "File \u001b[1;32m~\\anaconda3\\Lib\\site-packages\\scipy\\sparse\\_compressed.py:1050\u001b[0m, in \u001b[0;36m_cs_matrix.toarray\u001b[1;34m(self, order, out)\u001b[0m\n\u001b[0;32m   1048\u001b[0m \u001b[38;5;28;01mif\u001b[39;00m out \u001b[38;5;129;01mis\u001b[39;00m \u001b[38;5;28;01mNone\u001b[39;00m \u001b[38;5;129;01mand\u001b[39;00m order \u001b[38;5;129;01mis\u001b[39;00m \u001b[38;5;28;01mNone\u001b[39;00m:\n\u001b[0;32m   1049\u001b[0m     order \u001b[38;5;241m=\u001b[39m \u001b[38;5;28mself\u001b[39m\u001b[38;5;241m.\u001b[39m_swap(\u001b[38;5;124m'\u001b[39m\u001b[38;5;124mcf\u001b[39m\u001b[38;5;124m'\u001b[39m)[\u001b[38;5;241m0\u001b[39m]\n\u001b[1;32m-> 1050\u001b[0m out \u001b[38;5;241m=\u001b[39m \u001b[38;5;28mself\u001b[39m\u001b[38;5;241m.\u001b[39m_process_toarray_args(order, out)\n\u001b[0;32m   1051\u001b[0m \u001b[38;5;28;01mif\u001b[39;00m \u001b[38;5;129;01mnot\u001b[39;00m (out\u001b[38;5;241m.\u001b[39mflags\u001b[38;5;241m.\u001b[39mc_contiguous \u001b[38;5;129;01mor\u001b[39;00m out\u001b[38;5;241m.\u001b[39mflags\u001b[38;5;241m.\u001b[39mf_contiguous):\n\u001b[0;32m   1052\u001b[0m     \u001b[38;5;28;01mraise\u001b[39;00m \u001b[38;5;167;01mValueError\u001b[39;00m(\u001b[38;5;124m'\u001b[39m\u001b[38;5;124mOutput array must be C or F contiguous\u001b[39m\u001b[38;5;124m'\u001b[39m)\n",
      "File \u001b[1;32m~\\anaconda3\\Lib\\site-packages\\scipy\\sparse\\_base.py:1267\u001b[0m, in \u001b[0;36m_spbase._process_toarray_args\u001b[1;34m(self, order, out)\u001b[0m\n\u001b[0;32m   1265\u001b[0m     \u001b[38;5;28;01mreturn\u001b[39;00m out\n\u001b[0;32m   1266\u001b[0m \u001b[38;5;28;01melse\u001b[39;00m:\n\u001b[1;32m-> 1267\u001b[0m     \u001b[38;5;28;01mreturn\u001b[39;00m np\u001b[38;5;241m.\u001b[39mzeros(\u001b[38;5;28mself\u001b[39m\u001b[38;5;241m.\u001b[39mshape, dtype\u001b[38;5;241m=\u001b[39m\u001b[38;5;28mself\u001b[39m\u001b[38;5;241m.\u001b[39mdtype, order\u001b[38;5;241m=\u001b[39morder)\n",
      "\u001b[1;31mMemoryError\u001b[0m: Unable to allocate 51.4 GiB for an array with shape (69540, 99218) and data type float64"
     ]
    }
   ],
   "source": [
    "tfidf = TfidfVectorizer()\n",
    "\n",
    "tfs = tfidf.fit_transform(data1['text_clean'])\n",
    "\n",
    "# Tuits x términos\n",
    "\n",
    "print(tfs.toarray().shape)\n"
   ]
  },
  {
   "cell_type": "code",
   "execution_count": null,
   "id": "788ccdae",
   "metadata": {},
   "outputs": [],
   "source": [
    "tfs.toarray()"
   ]
  },
  {
   "cell_type": "markdown",
   "id": "727055de",
   "metadata": {},
   "source": [
    "Creamos un diccionario de terminos"
   ]
  },
  {
   "cell_type": "code",
   "execution_count": null,
   "id": "67eaf3ca",
   "metadata": {},
   "outputs": [],
   "source": [
    "print(\"Nuestro corpus tiene {} terminos:\".format(len(tfidf.vocabulary_)))"
   ]
  },
  {
   "cell_type": "code",
   "execution_count": null,
   "id": "28a7f658",
   "metadata": {},
   "outputs": [],
   "source": [
    "tfidf.vocabulary_"
   ]
  },
  {
   "cell_type": "code",
   "execution_count": null,
   "id": "fac10f2c",
   "metadata": {},
   "outputs": [],
   "source": [
    "words = np.array(tfidf.get_feature_names_out())\n",
    "print(len(words))\n"
   ]
  },
  {
   "cell_type": "markdown",
   "id": "bd9ca4c8",
   "metadata": {},
   "source": [
    "Tenemos 99218 terminos en total"
   ]
  },
  {
   "cell_type": "markdown",
   "id": "00e76fc7",
   "metadata": {},
   "source": [
    "### Parámetros\n",
    "\n",
    "Probaremos diferentes números de componentes o tópicos ${k}$ para ver cual permite identificar mejor topics diferentes.\n",
    "\n",
    "Guardamos la clase NMF como objeto y le damos parámetros iniciales"
   ]
  },
  {
   "cell_type": "code",
   "execution_count": null,
   "id": "b4e64ecb",
   "metadata": {},
   "outputs": [],
   "source": [
    "nmf = NMF(n_components=10, solver='mu', init='nndsvda')\n",
    "\n",
    "Q = nmf.fit_transform(tfs)\n",
    "P = nmf.components_"
   ]
  },
  {
   "cell_type": "code",
   "execution_count": null,
   "id": "cc39adee",
   "metadata": {},
   "outputs": [],
   "source": [
    "Q.shape"
   ]
  },
  {
   "cell_type": "markdown",
   "id": "50b3c242",
   "metadata": {},
   "source": [
    "69540 tweets x 10 tópicos"
   ]
  },
  {
   "cell_type": "code",
   "execution_count": null,
   "id": "74c3764e",
   "metadata": {},
   "outputs": [],
   "source": [
    "P.shape"
   ]
  },
  {
   "cell_type": "markdown",
   "id": "e3a5b3cb",
   "metadata": {},
   "source": [
    "10 topicos x 99220 terminos\n"
   ]
  },
  {
   "cell_type": "markdown",
   "id": "276b44bb",
   "metadata": {},
   "source": [
    "## Palabras más probables por tópico\n"
   ]
  },
  {
   "cell_type": "code",
   "execution_count": null,
   "id": "066ebea0",
   "metadata": {},
   "outputs": [],
   "source": [
    "for i, topic in enumerate(P):\n",
    "     print(\"Topic {}: {}\".format(i + 1, \",\".join([str(x) for x in words[topic.argsort()[-10:]]])))\n"
   ]
  },
  {
   "cell_type": "markdown",
   "id": "41fe81c2",
   "metadata": {},
   "source": [
    "Con un parámetro de 10 componentes se identifican palabras  que cubren una variedad de aspectos relacionados con COVID-19, como informes de casos y fallecimientos, vacunación, situación internacional, medidas gubernamentales. Sin embargo, las palabras de algunos temas se solapan, como en el caso del Topic 1 y el Topic 5, pues ambos incluyen \"fallecidos\", \"decesos\", \"contagios\" y \"minsa_peru\". Esto sugiere que estos dos temas pueden estar relacionados con la situación de la salud y los informes de casos y fallecimientos. Para ello probaremos reducir el numero de topics en el modelo y compararemos los resultados."
   ]
  },
  {
   "cell_type": "markdown",
   "id": "f23a198c",
   "metadata": {},
   "source": [
    "**7 topics**"
   ]
  },
  {
   "cell_type": "code",
   "execution_count": null,
   "id": "56155567",
   "metadata": {},
   "outputs": [],
   "source": [
    "nmf = NMF(n_components=7, solver='mu', init='nndsvda')\n",
    "\n",
    "words = np.array(tfidf.get_feature_names_out())\n",
    "\n",
    "Q = nmf.fit_transform(tfs)\n",
    "P = nmf.components_\n",
    "most_likely_topic = Q.argmax(axis=1)\n",
    "for i, topic in enumerate(P):\n",
    "     print(\"Topic {}: {}\".format(i + 1, \",\".join([str(x) for x in words[topic.argsort()[-10:]]])))\n"
   ]
  },
  {
   "cell_type": "markdown",
   "id": "a86ec31a",
   "metadata": {},
   "source": [
    "-  Topic 1:  relacionado con los informes de fallecimientos y contagios proporcionados por el Ministerio de Salud (Minsa).\n",
    "- Topic 2: se centra en la vacunación en Perú, específicamente en la tercera dosis de pfizer, dirigida a personas mayores.\n",
    "- Topic 3: está relacionado con los casos, contagios y muertes en Argentina, Brasil y México\n",
    "- Topic 4: aborda las vacunas en Brasil (el país funciono como laboratorio de pruebas y realizó campaña de vacunacion masiva)\n",
    "- Topic 5: está relacionado con los registros y eventos en diferentes regiones del país, como el aumento de casos y fallecimientos.\n",
    "- Topic 6: relacionado con informes del minsa sobre casos y pacientes recuperados\n",
    " / dados de alta.\n",
    "- Topic 7: relacionado con el primer caso, martin vizcarra y medidas gubernamentales, como la cuarentena.\n"
   ]
  },
  {
   "cell_type": "code",
   "execution_count": null,
   "id": "aabe725d",
   "metadata": {},
   "outputs": [],
   "source": [
    "Q.shape\n",
    "most_likely_topic = Q.argmax(axis=1)"
   ]
  },
  {
   "cell_type": "markdown",
   "id": "9a1178c5",
   "metadata": {},
   "source": [
    "Creamos una columna en el data frame que asigne el topic más probable a cada tweet"
   ]
  },
  {
   "cell_type": "code",
   "execution_count": null,
   "id": "cf8d6c20",
   "metadata": {},
   "outputs": [],
   "source": [
    "data1['most_likely_topic'] = most_likely_topic"
   ]
  },
  {
   "cell_type": "markdown",
   "id": "69b3707e",
   "metadata": {},
   "source": [
    "## Análisis descriptivo\n",
    "\n",
    "Contamos la frecuencia y proporción de cada tópico\n"
   ]
  },
  {
   "cell_type": "code",
   "execution_count": null,
   "id": "5147bf3d",
   "metadata": {},
   "outputs": [],
   "source": [
    "topic_counts = data1['most_likely_topic'].value_counts()\n",
    "topic_counts"
   ]
  },
  {
   "cell_type": "code",
   "execution_count": null,
   "id": "6790be62",
   "metadata": {},
   "outputs": [],
   "source": [
    "topic_proportions = topic_counts / len(data1)\n",
    "print(topic_proportions)"
   ]
  },
  {
   "cell_type": "markdown",
   "id": "bad07ea7",
   "metadata": {},
   "source": [
    "Los 5 temas más comunes son:\n",
    "- Topic 7: Anuncios de Martin Vizcarra  (33 708 tweets / 48%)\n",
    "- Topic 2: Vacunacion en el Perú  (11 052 tweets / 16% )\n",
    "- Topic 3: Emergencia sanitaria mundial en el año 2021  (13 555 tweets / 19%)\n",
    "- Topic 8: Proceso de vacunación (6293 tweets / 9%)\n",
    "- Topic 2: Contagios y casos intenacionales (4404 tweets / 6%)\n"
   ]
  },
  {
   "cell_type": "code",
   "execution_count": null,
   "id": "6fbccaa8",
   "metadata": {},
   "outputs": [],
   "source": [
    "topic_percentages = topic_proportions* 100"
   ]
  },
  {
   "cell_type": "code",
   "execution_count": null,
   "id": "4b3bc846",
   "metadata": {},
   "outputs": [],
   "source": [
    "# Histograma de barras\n",
    "plt.figure(figsize=(10, 6))\n",
    "topic_percentages.plot(kind='bar')\n",
    "plt.xlabel('Temas')\n",
    "plt.ylabel('Porcentaje')\n",
    "plt.title('Porcentaje de tweets por temas')\n",
    "plt.show()"
   ]
  },
  {
   "cell_type": "markdown",
   "id": "1e199fb3",
   "metadata": {},
   "source": [
    "Se aprecia claramente que el topic 7 predomina en relación a los tuits que hablan sobre la pandemia. Esto puede deberse a que el primer caso de COVID-19 fue un evento altamente significativo, por lo que recibió una gran cobertura mediática. Además, como presidente en ese momento, Martin Vizcarra tenía un papel clave en la toma de decisiones y la implementación de medidas para contener la propagación del virus, siendo un tema de elevada difusión mediática."
   ]
  },
  {
   "cell_type": "markdown",
   "id": "f070a340",
   "metadata": {},
   "source": [
    "## Visualización: scatter plot\n",
    "\n",
    "Calculamos la proporción de cada tópico para"
   ]
  },
  {
   "cell_type": "code",
   "execution_count": null,
   "id": "ee409fd9",
   "metadata": {},
   "outputs": [],
   "source": [
    "topic_proportions2 = Q.sum(axis=0) / Q.sum()\n",
    "topic_proportions2\n",
    "\n",
    "Q.sum(axis=0)\n",
    "\n",
    "Q.sum()"
   ]
  },
  {
   "cell_type": "markdown",
   "id": "34038a21",
   "metadata": {},
   "source": [
    "Factoriza matriz en dos dimensiones"
   ]
  },
  {
   "cell_type": "code",
   "execution_count": null,
   "id": "06d4502e",
   "metadata": {},
   "outputs": [],
   "source": [
    "# Apply t-SNE to reduce the dimensionality of the data\n",
    "tsne = TSNE(n_components=2, verbose=1, perplexity=40, n_iter=300)\n",
    "tsne_results = tsne.fit_transform(Q)"
   ]
  },
  {
   "cell_type": "markdown",
   "id": "3d6361ec",
   "metadata": {},
   "source": [
    "Creamos lista de top 10 palabras más importantes por tópico y scatter plot"
   ]
  },
  {
   "cell_type": "code",
   "execution_count": null,
   "id": "8c2679cf",
   "metadata": {},
   "outputs": [],
   "source": [
    "top_words = []\n",
    "for topic in P:\n",
    "    word_idx = topic.argsort()[-10:]\n",
    "    top_words.append([words[idx] for idx in word_idx])"
   ]
  },
  {
   "cell_type": "code",
   "execution_count": null,
   "id": "f98f18ad",
   "metadata": {},
   "outputs": [],
   "source": [
    "# Create scatter plot with topic colors and labels a cada documento le asignamos color segun  código\n",
    "plt.figure(figsize=(10, 10))\n",
    "sns.scatterplot(\n",
    "    x=tsne_results[:,0],\n",
    "    y=tsne_results[:,1],\n",
    "    hue=Q.argmax(axis=1), # Color-code points by their assigned topic\n",
    "    palette=sns.color_palette(\"hls\", nmf.n_components),\n",
    "    legend=\"full\",\n",
    "    alpha=0.7\n",
    ")"
   ]
  },
  {
   "cell_type": "code",
   "execution_count": null,
   "id": "02a1a979",
   "metadata": {},
   "outputs": [],
   "source": [
    "# Add topic labels to plot\n",
    "for i, words in enumerate(top_words):\n",
    "    label = \"Topic {}: {}\".format(i+1, \", \".join(words))\n",
    "    x_pos = tsne_results[Q.argmax(axis=1) == i, 0].mean()\n",
    "    y_pos = tsne_results[Q.argmax(axis=1) == i, 1].mean()\n",
    "    plt.text(x_pos, y_pos, label, fontsize=10, bbox=dict(facecolor='white', alpha=0.8))\n",
    "\n",
    "plt.title(\"NMF: Topicos sobre el Covid-19 en los medios de comunicación peruanos({} Topics)\".format(nmf.n_components))\n",
    "plt.xlabel(\"t-SNE Dimension 1\")\n",
    "plt.ylabel(\"t-SNE Dimension 2\")\n",
    "plt.show()"
   ]
  },
  {
   "cell_type": "markdown",
   "id": "dd08e707",
   "metadata": {},
   "source": [
    "## Método 2: Latent Dirichlet Allocation - LDA\n",
    "\n",
    "Creamos lista con los tweets"
   ]
  },
  {
   "cell_type": "code",
   "execution_count": null,
   "id": "7a7d2fc5",
   "metadata": {},
   "outputs": [],
   "source": [
    "data2 = data1.text_clean.values.tolist()\n",
    "\n",
    "def sent_to_words(sentences):\n",
    "    for sentence in sentences:\n",
    "        yield(gensim.utils.simple_preprocess(str(sentence), deacc=True))\n",
    "\n",
    "data_words = list(sent_to_words(data2))\n",
    "\n",
    "id2word = corpora.Dictionary(data_words)\n",
    "\n",
    "print(id2word[4])\n",
    "print(len(id2word))"
   ]
  },
  {
   "cell_type": "code",
   "execution_count": null,
   "id": "341d20d8",
   "metadata": {},
   "outputs": [],
   "source": [
    "texts = data_words\n",
    "corpus = [id2word.doc2bow(text) for text in texts]"
   ]
  },
  {
   "cell_type": "code",
   "execution_count": null,
   "id": "28a6cbd8",
   "metadata": {},
   "outputs": [],
   "source": [
    "from pprint import pprint\n",
    "lda_model = gensim.models.LdaMulticore(corpus=corpus,\n",
    "                                       id2word=id2word,\n",
    "                                       num_topics=10,\n",
    "                                       passes=10)\n",
    "\n",
    "pprint(lda_model.print_topics(num_words=10))"
   ]
  },
  {
   "cell_type": "code",
   "execution_count": null,
   "id": "b16c37b5",
   "metadata": {},
   "outputs": [],
   "source": [
    "from sklearn.decomposition import LatentDirichletAllocation as LDA\n",
    "lda_tweets = LDA(n_components=10, random_state=42)\n",
    "lda_tweets.fit(tfs)"
   ]
  },
  {
   "cell_type": "code",
   "execution_count": null,
   "id": "e7397fe4",
   "metadata": {},
   "outputs": [],
   "source": [
    "for idx, topic in enumerate(lda_tweets.components_):\n",
    "    print(f\"las 10 palabras más importantes por tema #{idx}:\")\n",
    "    print([tfidf.get_feature_names_out()[i] for i in topic.argsort()[-10:]])\n",
    "    print('')\n"
   ]
  },
  {
   "cell_type": "markdown",
   "id": "117ed408",
   "metadata": {},
   "source": [
    "Podemos apreciar que el modelo LDA no está generando temas tan diferenciados, al observar una elevada repetición de las mismas palabras en los 10 temas. Esto se debe principalmente a que, a diferencia del NNMF, el LDA no utiliza términos frecuencia, sino que también toma en cuenta la frecuencia en relación a la distribucion de la palabra en el total del corpus. Probaremos cambiando los parámetros para evaluar si hay una mejora"
   ]
  },
  {
   "cell_type": "markdown",
   "id": "279f3f4e",
   "metadata": {},
   "source": [
    "**7 topics**"
   ]
  },
  {
   "cell_type": "code",
   "execution_count": null,
   "id": "7ef109c1",
   "metadata": {},
   "outputs": [],
   "source": [
    "from pprint import pprint\n",
    "lda_model = gensim.models.LdaMulticore(corpus=corpus,\n",
    "                                       id2word=id2word,\n",
    "                                       num_topics=7,\n",
    "                                       passes=10)\n",
    "\n",
    "pprint(lda_model.print_topics(num_words=10))"
   ]
  },
  {
   "cell_type": "code",
   "execution_count": null,
   "id": "189a69a5",
   "metadata": {},
   "outputs": [],
   "source": [
    "from sklearn.decomposition import LatentDirichletAllocation as LDA\n",
    "lda_tweets = LDA(n_components=7, random_state=42)\n",
    "lda_tweets.fit(tfs)"
   ]
  },
  {
   "cell_type": "code",
   "execution_count": null,
   "id": "f39b0193",
   "metadata": {},
   "outputs": [],
   "source": [
    "for idx, topic in enumerate(lda_tweets.components_):\n",
    "    print(f\"las 10 palabras más importantes por tema #{idx}:\")\n",
    "    print([tfidf.get_feature_names_out()[i] for i in topic.argsort()[-10:]])\n",
    "    print('')"
   ]
  },
  {
   "cell_type": "markdown",
   "id": "f6730a04",
   "metadata": {},
   "source": [
    "El reducir el número de topics no parece ayudar en la identificación de temas claramente distingibles entre si:\n",
    "cuaretena aparece en los tópicos 0, 1, 4 y 5.\n",
    "vacuna: Aparece en los tópicos 0, 1, 3, 4 y 5.\n",
    "casos: Aparece en los tópicos 1, 2, 3, 4, 5 y 6.\n",
    "pandemia: Aparece en los tópicos 0, 1, 2, 3, 4 y 5.\n",
    "salud: Aparece en los tópicos 1, 2, 5 y 6.\n",
    "perú: Aparece en los tópicos 0, 1, 2, 3, 4, 5 y 6.\n",
    "muertes: Aparece en los tópicos 0, 2, 3 y 4.\n",
    "millones: Aparece en los tópicos 0, 1, 2 y 5.\n"
   ]
  },
  {
   "cell_type": "markdown",
   "id": "11dbf068",
   "metadata": {},
   "source": [
    "## Conclusiones\n",
    "\n",
    "El método de Non Negative Matrix Factorization fue el más efectivo para aproximarnos a los principales temas los tuits de los medios de noticias sobre el Covid-19. En contraste, el método LDA tuvo problemas para generar temas diferenciados, identificando palabras más generales que se repetian en los distintos tópicos.\n",
    "\n",
    "El NNMF permite aprecia que los medios de noticias realizaron un reporte continuo sobre el covid reportando las cifras actualizadas de contagios y fallecidos a nivel nacional proporcionadas por el MINSA y las cifras de distintos países a nivel internacional. El tema predominante fueron las medidas tomadas por el gobierno de Vizcarra. Finalmente, otro tema central de información fueron los procesos de vacunación, que contribuyeron con acelerar su proceso y que se lleve a cabo de manera exitosa.\n",
    "\n",
    "\n"
   ]
  },
  {
   "cell_type": "markdown",
   "id": "18d0a548",
   "metadata": {},
   "source": [
    "## Bibliografía\n",
    "\n",
    "- Hoyt, D. L., Hiserodt, M., Gold, A. K., Milligan, M. A., & Otto, M. W. (2022). Is Ignorance Bliss? Examining the Effect of News Media Exposure on Anxiety and Depression During the COVID-19 Pandemic. The Journal of nervous and mental disease, 210(2), 91–97. https://doi.org/10.1097/NMD.0000000000001434\n",
    "- Malecki, K. M., Keating, J. A., & Safdar, N. (2021). Crisis communication and public perception of COVID-19 risk in the era of social media. Clinical infectious diseases, 72(4), 697-702.\n",
    "- Ponce de León, Z. (2021). Sistema de Salud en el Perú y el COVID-19.\n",
    "- Worldometer (2023) Reporte de contagios y muertes por COVID 19.\n",
    "Recuperado el 7 de julio de 2023 de https://www.worldometers.info/coronavirus/\n"
   ]
  }
 ],
 "metadata": {
  "kernelspec": {
   "display_name": "Python 3 (ipykernel)",
   "language": "python",
   "name": "python3"
  },
  "language_info": {
   "codemirror_mode": {
    "name": "ipython",
    "version": 3
   },
   "file_extension": ".py",
   "mimetype": "text/x-python",
   "name": "python",
   "nbconvert_exporter": "python",
   "pygments_lexer": "ipython3",
   "version": "3.11.5"
  }
 },
 "nbformat": 4,
 "nbformat_minor": 5
}
