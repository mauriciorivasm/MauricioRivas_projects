{
 "cells": [
  {
   "cell_type": "code",
   "execution_count": 1,
   "id": "b1e918ca",
   "metadata": {},
   "outputs": [
    {
     "data": {
      "text/html": [
       "\n",
       "<style>\n",
       "    div#notebook-container    { width: 95%; }\n",
       "    div#menubar-container     { width: 65%; }\n",
       "    div#maintoolbar-container { width: 99%; }a\n",
       "</style>\n"
      ],
      "text/plain": [
       "<IPython.core.display.HTML object>"
      ]
     },
     "metadata": {},
     "output_type": "display_data"
    }
   ],
   "source": [
    "from IPython.display import display, HTML\n",
    "\n",
    "display(HTML(data=\"\"\"\n",
    "<style>\n",
    "    div#notebook-container    { width: 95%; }\n",
    "    div#menubar-container     { width: 65%; }\n",
    "    div#maintoolbar-container { width: 99%; }a\n",
    "</style>\n",
    "\"\"\"))"
   ]
  },
  {
   "cell_type": "code",
   "execution_count": 2,
   "id": "97e0143a",
   "metadata": {},
   "outputs": [],
   "source": [
    "#! pip install unicode"
   ]
  },
  {
   "cell_type": "code",
   "execution_count": 2,
   "id": "35fee61c",
   "metadata": {},
   "outputs": [],
   "source": [
    "import unidecode\n",
    "import pandas as pd\n",
    "from pandas import Series, DataFrame\n",
    "import numpy as np\n",
    "import matplotlib.pyplot as plt \n",
    "import chardet\n",
    "import geopandas as gpd\n",
    "from geopandas import GeoSeries\n",
    "from shapely.geometry import Point, LineString\n",
    "import folium  as fm\n",
    "from folium import Marker, GeoJson\n",
    "from folium.plugins import MarkerCluster, HeatMap, StripePattern\n",
    "import branca as br "
   ]
  },
  {
   "cell_type": "markdown",
   "id": "2ccdaa9d",
   "metadata": {},
   "source": [
    "### Import data and shape file"
   ]
  },
  {
   "cell_type": "code",
   "execution_count": 3,
   "id": "f1a61bb2",
   "metadata": {},
   "outputs": [],
   "source": [
    "#Gettting the character format\n",
    "base = open(r'../data/MINING_PERU.csv', 'rb').read()\n",
    "det = chardet.detect(base)\n",
    "charenc = det['encoding']"
   ]
  },
  {
   "cell_type": "markdown",
   "id": "ed25bbe3",
   "metadata": {},
   "source": [
    "Import the mines data"
   ]
  },
  {
   "cell_type": "code",
   "execution_count": 4,
   "id": "774182b3",
   "metadata": {},
   "outputs": [],
   "source": [
    "base = open(r'../data/POVERTY_PERU.csv', 'rb').read()\n",
    "det = chardet.detect(base)\n",
    "charenc = det['encoding']\n",
    "mines = pd.read_csv( r'../data/MINING_PERU.csv', encoding = charenc)"
   ]
  },
  {
   "cell_type": "code",
   "execution_count": 5,
   "id": "989a4bb6",
   "metadata": {},
   "outputs": [],
   "source": [
    "mines['UBIGEO'] = mines['UBIGEO'].astype(str)"
   ]
  },
  {
   "cell_type": "code",
   "execution_count": 6,
   "id": "eb608770",
   "metadata": {},
   "outputs": [],
   "source": [
    "mines.rename(columns={'REGION': 'DEPARTAMENTO'}, inplace=True)"
   ]
  },
  {
   "cell_type": "code",
   "execution_count": 7,
   "id": "ac5cdf4c",
   "metadata": {},
   "outputs": [],
   "source": [
    "poverty = pd.read_csv(r'../data/POVERTY_PERU.csv', encoding = charenc)"
   ]
  },
  {
   "cell_type": "code",
   "execution_count": 8,
   "id": "4ea05424",
   "metadata": {},
   "outputs": [],
   "source": [
    "# Function to remove tildes\n",
    "def quitar_tildes(cadena):\n",
    "    return unidecode.unidecode(cadena)\n",
    "\n",
    "poverty['DEPARTAMENTO'] = poverty['DEPARTAMENTO'].apply(quitar_tildes)\n",
    "poverty['DISTRITO'] = poverty['DISTRITO'].apply(quitar_tildes)"
   ]
  },
  {
   "cell_type": "code",
   "execution_count": 9,
   "id": "20eaf526",
   "metadata": {},
   "outputs": [],
   "source": [
    "poverty.rename(columns={'UBIGEO1': 'UBIGEO'}, inplace=True)"
   ]
  },
  {
   "cell_type": "code",
   "execution_count": 10,
   "id": "782f3a51",
   "metadata": {},
   "outputs": [],
   "source": [
    "poverty['UBIGEO'] = poverty['UBIGEO'].astype(str)"
   ]
  },
  {
   "cell_type": "code",
   "execution_count": 11,
   "id": "bc787f78",
   "metadata": {},
   "outputs": [],
   "source": [
    "poverty['UBIGEO'] = poverty['UBIGEO'].str.zfill(6)"
   ]
  },
  {
   "cell_type": "code",
   "execution_count": 12,
   "id": "cdd0bc12",
   "metadata": {},
   "outputs": [],
   "source": [
    "poverty['DEPARTAMENTO'] = poverty['DEPARTAMENTO'].str.strip()"
   ]
  },
  {
   "cell_type": "markdown",
   "id": "ccfe814a",
   "metadata": {},
   "source": [
    "We import the shape file for the districts"
   ]
  },
  {
   "cell_type": "code",
   "execution_count": 13,
   "id": "43d2bec5",
   "metadata": {},
   "outputs": [],
   "source": [
    "dist_shape = gpd.read_file( r'../../Diplomado_PUCP/_data/LIMITE_DISTRITAL_2020_INEI/INEI_LIMITE_DISTRITAL.shp')"
   ]
  },
  {
   "cell_type": "code",
   "execution_count": 14,
   "id": "c83e1ac8",
   "metadata": {},
   "outputs": [],
   "source": [
    "dist_shape = dist_shape[['UBIGEO','geometry']]"
   ]
  },
  {
   "cell_type": "code",
   "execution_count": 15,
   "id": "fae26575",
   "metadata": {},
   "outputs": [],
   "source": [
    "dataset_map = pd.merge(poverty, dist_shape, how=\"right\", on=\"UBIGEO\")"
   ]
  },
  {
   "cell_type": "code",
   "execution_count": 16,
   "id": "3b4865a3",
   "metadata": {},
   "outputs": [],
   "source": [
    "mines_count = mines.groupby(['DEPARTAMENTO', 'PROVINCIA', 'DISTRITO']).size().reset_index(name='NUM_MINAS_DIST')"
   ]
  },
  {
   "cell_type": "code",
   "execution_count": 17,
   "id": "8f28aab5",
   "metadata": {},
   "outputs": [],
   "source": [
    "combined_df = pd.merge(poverty, mines_count, on=['DEPARTAMENTO', 'PROVINCIA', 'DISTRITO'], how='left')"
   ]
  },
  {
   "cell_type": "markdown",
   "id": "7d69aa7a",
   "metadata": {},
   "source": [
    "No todos los distritos tienen minas, por lo que llenaremos los valores faltantes con 0"
   ]
  },
  {
   "cell_type": "code",
   "execution_count": 18,
   "id": "50127bfb",
   "metadata": {},
   "outputs": [],
   "source": [
    "combined_df['NUM_MINAS_DIST'] = combined_df['NUM_MINAS_DIST'].fillna(0)"
   ]
  },
  {
   "cell_type": "markdown",
   "id": "a7d934bf",
   "metadata": {},
   "source": [
    "We create a new column to indicate if the district has a mine "
   ]
  },
  {
   "cell_type": "code",
   "execution_count": 19,
   "id": "2aa05359",
   "metadata": {},
   "outputs": [],
   "source": [
    "combined_df['TIENE_MINA'] = combined_df['NUM_MINAS_DIST'] > 0"
   ]
  },
  {
   "cell_type": "markdown",
   "id": "19645924",
   "metadata": {},
   "source": [
    "We create a new dataset that only includes departments that have at least one district with a mine"
   ]
  },
  {
   "cell_type": "code",
   "execution_count": 20,
   "id": "cab5a61a",
   "metadata": {},
   "outputs": [],
   "source": [
    "minas_por_departamento = combined_df.groupby('DEPARTAMENTO')['NUM_MINAS_DIST'].sum().reset_index()"
   ]
  },
  {
   "cell_type": "markdown",
   "id": "f766c6d9",
   "metadata": {},
   "source": [
    " We identify the departments with 0 mines and filter them out of new dataframe"
   ]
  },
  {
   "cell_type": "code",
   "execution_count": 21,
   "id": "10ebf2b1",
   "metadata": {},
   "outputs": [],
   "source": [
    "departamentos_sin_minas = minas_por_departamento[minas_por_departamento['NUM_MINAS_DIST'] == 0]['DEPARTAMENTO']\n",
    "dataset2 = combined_df[~combined_df['DEPARTAMENTO'].isin(departamentos_sin_minas)]"
   ]
  },
  {
   "cell_type": "markdown",
   "id": "2eda374b",
   "metadata": {},
   "source": [
    "## POVERTY AND MINES MAP"
   ]
  },
  {
   "cell_type": "code",
   "execution_count": null,
   "id": "6f691161",
   "metadata": {},
   "outputs": [],
   "source": [
    "mines.columns.str.strip()\n",
    "mines.columns.values[1] = 'METODO'\n",
    "mines.head(1)"
   ]
  },
  {
   "cell_type": "code",
   "execution_count": null,
   "id": "7c8abd46",
   "metadata": {},
   "outputs": [],
   "source": [
    "# Function create table by each mine using html. \n",
    "def visual_html(i):\n",
    " \n",
    "    # information by mine \n",
    "\n",
    "    method  = mines['METODO'].iloc[i] \n",
    "    owner = mines['TITULAR'].iloc[i]  \n",
    "    unit = mines['UNIDAD'].iloc[i]  \n",
    "    product =  mines['PRODUCTO'].iloc[i] \n",
    "    department = mines['DEPARTAMENTO'].iloc[i]\n",
    "    province = mines['PROVINCIA'].iloc[i]\n",
    "    district = mines['DISTRITO'].iloc[i]\n",
    "        \n",
    "    # Color for each column of table \n",
    "    \n",
    "    left_col_colour = \"#31bfeb\"\n",
    "    right_col_colour = \"#BDC3C7\"\n",
    "    \n",
    "    html = \"\"\"<!DOCTYPE html>\n",
    "<html>\n",
    "\n",
    "<head>\n",
    "    <p> Mine information </p>\n",
    "\n",
    "</head>\n",
    "    <table style=\"height: 126px; width: 350px;\">  <!-- Comment: Create a teable. -->\n",
    "\n",
    "<!-- Add information  -->\n",
    "\n",
    "<tbody> \n",
    "<tr>\n",
    "\n",
    "<!-- Add color by column -->\n",
    "\n",
    "<td style=\"background-color: \"\"\"+ left_col_colour +\"\"\";\"><span style=\"color: #ffffff;\">Method of exploitation</span></td>\n",
    "<td style=\"width: 150px;background-color: \"\"\"+ right_col_colour +\"\"\";\">{}</td>\"\"\".format(method) + \"\"\"\n",
    "</tr>\n",
    "<tr>\n",
    "<td style=\"background-color: \"\"\"+ left_col_colour +\"\"\";\"><span style=\"color: #ffffff;\">Owner</span></td>\n",
    "<td style=\"width: 150px;background-color: \"\"\"+ right_col_colour +\"\"\";\">{}</td>\"\"\".format(owner) + \"\"\"\n",
    "</tr>\n",
    "<tr>\n",
    "<td style=\"background-color: \"\"\"+ left_col_colour +\"\"\";\"><span style=\"color: #ffffff;\">Unit</span></td>\n",
    "<td style=\"width: 150px;background-color: \"\"\"+ right_col_colour +\"\"\";\">{}</td>\"\"\".format(unit) + \"\"\"\n",
    "</tr>\n",
    "<tr>\n",
    "<td style=\"background-color: \"\"\"+ left_col_colour +\"\"\";\"><span style=\"color: #ffffff;\">Product</span></td>\n",
    "<td style=\"width: 150px;background-color: \"\"\"+ right_col_colour +\"\"\";\">{}</td>\"\"\".format(product) + \"\"\"\n",
    "</tr>\n",
    "<tr>\n",
    "<td style=\"background-color: \"\"\"+ left_col_colour +\"\"\";\"><span style=\"color: #ffffff;\">Department</span></td>\n",
    "<td style=\"width: 150px;background-color: \"\"\"+ right_col_colour +\"\"\";\">{}</td>\"\"\".format(department) + \"\"\"\n",
    "</tr>\n",
    "<tr>\n",
    "<td style=\"background-color: \"\"\"+ left_col_colour +\"\"\";\"><span style=\"color: #ffffff;\">Province</span></td>\n",
    "<td style=\"width: 150px;background-color: \"\"\"+ right_col_colour +\"\"\";\">{}</td>\"\"\".format(province) + \"\"\"\n",
    "</tr>\n",
    "<tr>\n",
    "<td style=\"background-color: \"\"\"+ left_col_colour +\"\"\";\"><span style=\"color: #ffffff;\">District</span></td>\n",
    "<td style=\"width: 150px;background-color: \"\"\"+ right_col_colour +\"\"\";\">{}</td>\"\"\".format(district) + \"\"\"\n",
    "</tr>\n",
    "\n",
    "</tbody>\n",
    "</table>\n",
    "</html>\n",
    "\"\"\"\n",
    "    return html"
   ]
  },
  {
   "cell_type": "code",
   "execution_count": null,
   "id": "ed14b855",
   "metadata": {},
   "outputs": [],
   "source": [
    "# Step 2: Calculate the average poverty rate for districts with and without mines within each department\n",
    "average_poverty_rates = dataset2.groupby(['DEPARTAMENTO', 'TIENE_MINA'])['POVERTY_RATE'].mean().reset_index()\n",
    "\n",
    "# Step 3: Pivot the table for easier comparison (optional)\n",
    "# This step rearranges the DataFrame so you have one row per department with separate columns for the average poverty rates of districts with and without mines.\n",
    "pivot_table = average_poverty_rates.pivot(index='DEPARTAMENTO', columns='TIENE_MINA', values='POVERTY_RATE')\n",
    "pivot_table.columns = ['No_Mines', 'With_Mines']\n",
    "\n",
    "# Step 4: Calculate the difference in poverty rates within departments (optional)\n",
    "# This step adds a new column to the pivot table that shows the difference in average poverty rates between districts with and without mines.\n",
    "pivot_table['Poverty_Rate_Difference'] = pivot_table['With_Mines'] - pivot_table['No_Mines']"
   ]
  },
  {
   "cell_type": "code",
   "execution_count": null,
   "id": "2ea0697b",
   "metadata": {},
   "outputs": [],
   "source": [
    "pov_dif = pivot_table.reset_index()"
   ]
  },
  {
   "cell_type": "code",
   "execution_count": null,
   "id": "622d9099",
   "metadata": {},
   "outputs": [],
   "source": [
    "dpt_shape = gpd.read_file( r'../../Diplomado_PUCP/_data/INEI_LIMITE_DEPARTAMENTAL/INEI_LIMITE_DEPARTAMENTAL.shp')"
   ]
  },
  {
   "cell_type": "code",
   "execution_count": null,
   "id": "e18dd4ca",
   "metadata": {},
   "outputs": [],
   "source": [
    "dpt_shape = dpt_shape[['NOMBDEP','geometry']]"
   ]
  },
  {
   "cell_type": "code",
   "execution_count": null,
   "id": "5b3118ef",
   "metadata": {},
   "outputs": [],
   "source": [
    "dpt_shape.rename(columns={'NOMBDEP': 'DEPARTAMENTO'}, inplace=True)"
   ]
  },
  {
   "cell_type": "code",
   "execution_count": null,
   "id": "62ec7944",
   "metadata": {},
   "outputs": [],
   "source": [
    "pbi_idh = poverty[['DEPARTAMENTO','PBI_PC','IDH']]"
   ]
  },
  {
   "cell_type": "code",
   "execution_count": null,
   "id": "cdeae327",
   "metadata": {},
   "outputs": [],
   "source": [
    "pbi_idh = pbi_idh.drop_duplicates(subset=['DEPARTAMENTO']).reset_index(drop=True)"
   ]
  },
  {
   "cell_type": "code",
   "execution_count": null,
   "id": "2910326b",
   "metadata": {},
   "outputs": [],
   "source": [
    "dpt_data = pd.merge(pov_dif, pbi_idh, how = 'left', on =  \"DEPARTAMENTO\" )"
   ]
  },
  {
   "cell_type": "code",
   "execution_count": null,
   "id": "03e88a67",
   "metadata": {},
   "outputs": [],
   "source": [
    "dpt_data = pd.merge(dpt_data, dpt_shape, how = 'right', on =  \"DEPARTAMENTO\" )"
   ]
  },
  {
   "cell_type": "code",
   "execution_count": null,
   "id": "9e24e592",
   "metadata": {},
   "outputs": [],
   "source": [
    "lat_palacio = -12.0757538\n",
    "long_palacio = -76.9863174\n",
    "zoom_start = 6\n",
    "\n",
    "mine2 = fm.Map(location = [lat_palacio, long_palacio], tiles='cartodbpositron', zoom_start = zoom_start)\n",
    "\n",
    "fm.Choropleth(\n",
    "    geo_data=dpt_shape,\n",
    "    data=dpt_data,\n",
    "    columns=['DEPARTAMENTO', 'Poverty_Rate_Difference'],\n",
    "    key_on=\"feature.properties.DEPARTAMENTO\",\n",
    "    fill_color=\"RdYlGn_r\",\n",
    "    fill_opacity=0.8,\n",
    "    line_opacity=0.2,\n",
    "    legend_name=\"Poverty Rate Diference (%)\",\n",
    "    smooth_factor=0,\n",
    "    Highlight= True,\n",
    "    line_color = \"#000000\",\n",
    "    overlay=True,\n",
    "    nan_fill_color = \"White\"  # fill white missing values \n",
    "    ).add_to(mine2)\n",
    "\n",
    "fm.LayerControl().add_to(mine2)\n",
    "\n",
    "mine\n",
    "for i in range(0,len(mines)):\n",
    "    html = visual_html(i)\n",
    "\n",
    "    iframe = br.element.IFrame(html=html,width=350,height=300)\n",
    "    popup = fm.Popup(iframe, parse_html=True)\n",
    "    \n",
    "    fm.Marker([mines['LATITUD'].iloc[i],mines['LONGITUD'].iloc[i]],\n",
    "                  popup=popup, icon=fm.Icon(color= 'blue', icon='gem', prefix=\"fa\")).add_to(mine2)\n",
    "    \n",
    "title_html = '''\n",
    "             <h3 align=\"center\" style=\"font-size:20px\"><b>Average difference in poverty rate between districts with mines and without mines by deparment</b></h3>\n",
    "             '''\n",
    "mine2.get_root().html.add_child(folium.Element(title_html))\n",
    "    \n",
    "mine2"
   ]
  },
  {
   "cell_type": "code",
   "execution_count": null,
   "id": "2a3d6da0",
   "metadata": {},
   "outputs": [],
   "source": [
    "pov_dif.sort_values(by='Poverty_Rate_Difference', ascending=True)"
   ]
  },
  {
   "cell_type": "markdown",
   "id": "58f022d2",
   "metadata": {},
   "source": [
    "In 16 of 21 departments that have a mine, the average poverty rate of the districts with mines are lower than the average poverty rate of districts without mines. The biggest differences in poverty can be found in Pasco (-21pp.), Amazonas (-15 Where there is an average 21 point difference in the poverty rate"
   ]
  },
  {
   "cell_type": "code",
   "execution_count": null,
   "id": "14f3ae1f",
   "metadata": {},
   "outputs": [],
   "source": [
    "import matplotlib.pyplot as plt\n",
    "\n",
    "# Set the size of the plot\n",
    "plt.figure(figsize=(14, 8))\n",
    "\n",
    "# Set the positions of the bars on the x-axis\n",
    "r1 = range(len(pivot_table))\n",
    "r2 = [x + 0.25 for x in r1]\n",
    "\n",
    "# Plot bars\n",
    "plt.bar(r1, pov_dif['No_Mines'], color='blue', width=0.25, label='No Mines')\n",
    "plt.bar(r2, pov_dif['With_Mines'], color='red', width=0.25, label='With Mines')\n",
    "\n",
    "# Add labels to the plot\n",
    "plt.xlabel('Department', fontsize=12)\n",
    "plt.ylabel('Average Poverty Rate', fontsize=12)\n",
    "plt.xticks([r + 0.125 for r in range(len(pivot_table))], pov_dif['DEPARTAMENTO'], rotation=90)\n",
    "plt.title('Comparison of Average Poverty Rates in Districts With and Without Mines by Department')\n",
    "\n",
    "# Create legend & Show plot\n",
    "plt.legend()\n",
    "plt.tight_layout()  # Adjust the layout to make room for the rotated x-axis labels\n",
    "plt.show()\n"
   ]
  }
 ],
 "metadata": {
  "kernelspec": {
   "display_name": "Python 3 (ipykernel)",
   "language": "python",
   "name": "python3"
  },
  "language_info": {
   "codemirror_mode": {
    "name": "ipython",
    "version": 3
   },
   "file_extension": ".py",
   "mimetype": "text/x-python",
   "name": "python",
   "nbconvert_exporter": "python",
   "pygments_lexer": "ipython3",
   "version": "3.11.5"
  }
 },
 "nbformat": 4,
 "nbformat_minor": 5
}
